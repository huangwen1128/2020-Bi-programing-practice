{
 "cells": [
  {
   "cell_type": "code",
   "execution_count": 45,
   "metadata": {},
   "outputs": [],
   "source": [
    "import pandas as pd\n",
    "import numpy as np\n",
    "\n",
    "df_train = pd.read_csv('E:\\\\private\\\\学习\\\\2020-bi-programing-practice\\\\随便写写\\\\intelligen_logistics\\\\L3-L19\\\\课上数据\\\\score_card\\\\cs-training.csv')"
   ]
  },
  {
   "cell_type": "code",
   "execution_count": 46,
   "metadata": {},
   "outputs": [],
   "source": [
    "df_train.drop('Unnamed: 0', inplace=True, axis=1)"
   ]
  },
  {
   "cell_type": "code",
   "execution_count": 47,
   "metadata": {},
   "outputs": [
    {
     "name": "stdout",
     "output_type": "stream",
     "text": [
      "<class 'pandas.core.frame.DataFrame'>\n",
      "RangeIndex: 150000 entries, 0 to 149999\n",
      "Data columns (total 11 columns):\n",
      "SeriousDlqin2yrs                        150000 non-null int64\n",
      "RevolvingUtilizationOfUnsecuredLines    150000 non-null float64\n",
      "age                                     150000 non-null int64\n",
      "NumberOfTime30-59DaysPastDueNotWorse    150000 non-null int64\n",
      "DebtRatio                               150000 non-null float64\n",
      "MonthlyIncome                           120269 non-null float64\n",
      "NumberOfOpenCreditLinesAndLoans         150000 non-null int64\n",
      "NumberOfTimes90DaysLate                 150000 non-null int64\n",
      "NumberRealEstateLoansOrLines            150000 non-null int64\n",
      "NumberOfTime60-89DaysPastDueNotWorse    150000 non-null int64\n",
      "NumberOfDependents                      146076 non-null float64\n",
      "dtypes: float64(4), int64(7)\n",
      "memory usage: 12.6 MB\n"
     ]
    },
    {
     "data": {
      "text/plain": [
       "SeriousDlqin2yrs                            0\n",
       "RevolvingUtilizationOfUnsecuredLines        0\n",
       "age                                         0\n",
       "NumberOfTime30-59DaysPastDueNotWorse        0\n",
       "DebtRatio                                   0\n",
       "MonthlyIncome                           29731\n",
       "NumberOfOpenCreditLinesAndLoans             0\n",
       "NumberOfTimes90DaysLate                     0\n",
       "NumberRealEstateLoansOrLines                0\n",
       "NumberOfTime60-89DaysPastDueNotWorse        0\n",
       "NumberOfDependents                       3924\n",
       "dtype: int64"
      ]
     },
     "execution_count": 47,
     "metadata": {},
     "output_type": "execute_result"
    }
   ],
   "source": [
    "df_train.info()\n",
    "df_train.head()\n",
    "df_train.isnull().sum()"
   ]
  },
  {
   "cell_type": "code",
   "execution_count": 48,
   "metadata": {},
   "outputs": [
    {
     "data": {
      "text/plain": [
       "Text(0, 0.5, 'count')"
      ]
     },
     "execution_count": 48,
     "metadata": {},
     "output_type": "execute_result"
    },
    {
     "data": {
      "image/png": "[encoded data removed]",
      "text/plain": [
       "<Figure size 432x288 with 1 Axes>"
      ]
     },
     "metadata": {
      "needs_background": "light"
     },
     "output_type": "display_data"
    }
   ],
   "source": [
    "#查看下target SeriousDlqin2yrs的分布\n",
    "#样本分布不均衡\n",
    "import matplotlib.pyplot as plt\n",
    "import seaborn as sns\n",
    "temp = df_train['SeriousDlqin2yrs'].value_counts()\n",
    "sns.barplot(x=temp.index, y=temp.values)\n",
    "plt.xlabel('SeriousDlqin2yrs')\n",
    "plt.ylabel('count')"
   ]
  },
  {
   "cell_type": "code",
   "execution_count": 49,
   "metadata": {},
   "outputs": [
    {
     "data": {
      "text/plain": [
       "<matplotlib.axes._subplots.AxesSubplot at 0x26a91f37948>"
      ]
     },
     "execution_count": 49,
     "metadata": {},
     "output_type": "execute_result"
    },
    {
     "data": {
      "image/png": "[encoded data removed]",
      "text/plain": [
       "<Figure size 432x288 with 1 Axes>"
      ]
     },
     "metadata": {
      "needs_background": "light"
     },
     "output_type": "display_data"
    }
   ],
   "source": [
    "sns.countplot(x='SeriousDlqin2yrs', data=df_train)"
   ]
  },
  {
   "cell_type": "code",
   "execution_count": 50,
   "metadata": {},
   "outputs": [
    {
     "data": {
      "text/plain": [
       "0.06684"
      ]
     },
     "execution_count": 50,
     "metadata": {},
     "output_type": "execute_result"
    }
   ],
   "source": [
    "df_train['SeriousDlqin2yrs'].sum()/len(df_train['SeriousDlqin2yrs'])"
   ]
  },
  {
   "cell_type": "code",
   "execution_count": 51,
   "metadata": {
    "scrolled": true
   },
   "outputs": [
    {
     "name": "stdout",
     "output_type": "stream",
     "text": [
      "count    150000.000000\n",
      "mean          0.066840\n",
      "std           0.249746\n",
      "min           0.000000\n",
      "25%           0.000000\n",
      "50%           0.000000\n",
      "75%           0.000000\n",
      "max           1.000000\n",
      "Name: SeriousDlqin2yrs, dtype: float64\n",
      "count    150000.000000\n",
      "mean          6.048438\n",
      "std         249.755371\n",
      "min           0.000000\n",
      "25%           0.029867\n",
      "50%           0.154181\n",
      "75%           0.559046\n",
      "max       50708.000000\n",
      "Name: RevolvingUtilizationOfUnsecuredLines, dtype: float64\n",
      "count    150000.000000\n",
      "mean         52.295207\n",
      "std          14.771866\n",
      "min           0.000000\n",
      "25%          41.000000\n",
      "50%          52.000000\n",
      "75%          63.000000\n",
      "max         109.000000\n",
      "Name: age, dtype: float64\n",
      "count    150000.000000\n",
      "mean          0.421033\n",
      "std           4.192781\n",
      "min           0.000000\n",
      "25%           0.000000\n",
      "50%           0.000000\n",
      "75%           0.000000\n",
      "max          98.000000\n",
      "Name: NumberOfTime30-59DaysPastDueNotWorse, dtype: float64\n",
      "count    150000.000000\n",
      "mean        353.005076\n",
      "std        2037.818523\n",
      "min           0.000000\n",
      "25%           0.175074\n",
      "50%           0.366508\n",
      "75%           0.868254\n",
      "max      329664.000000\n",
      "Name: DebtRatio, dtype: float64\n",
      "count    1.202690e+05\n",
      "mean     6.670221e+03\n",
      "std      1.438467e+04\n",
      "min      0.000000e+00\n",
      "25%      3.400000e+03\n",
      "50%      5.400000e+03\n",
      "75%      8.249000e+03\n",
      "max      3.008750e+06\n",
      "Name: MonthlyIncome, dtype: float64\n",
      "count    150000.000000\n",
      "mean          8.452760\n",
      "std           5.145951\n",
      "min           0.000000\n",
      "25%           5.000000\n",
      "50%           8.000000\n",
      "75%          11.000000\n",
      "max          58.000000\n",
      "Name: NumberOfOpenCreditLinesAndLoans, dtype: float64\n",
      "count    150000.000000\n",
      "mean          0.265973\n",
      "std           4.169304\n",
      "min           0.000000\n",
      "25%           0.000000\n",
      "50%           0.000000\n",
      "75%           0.000000\n",
      "max          98.000000\n",
      "Name: NumberOfTimes90DaysLate, dtype: float64\n",
      "count    150000.000000\n",
      "mean          1.018240\n",
      "std           1.129771\n",
      "min           0.000000\n",
      "25%           0.000000\n",
      "50%           1.000000\n",
      "75%           2.000000\n",
      "max          54.000000\n",
      "Name: NumberRealEstateLoansOrLines, dtype: float64\n",
      "count    150000.000000\n",
      "mean          0.240387\n",
      "std           4.155179\n",
      "min           0.000000\n",
      "25%           0.000000\n",
      "50%           0.000000\n",
      "75%           0.000000\n",
      "max          98.000000\n",
      "Name: NumberOfTime60-89DaysPastDueNotWorse, dtype: float64\n",
      "count    146076.000000\n",
      "mean          0.757222\n",
      "std           1.115086\n",
      "min           0.000000\n",
      "25%           0.000000\n",
      "50%           0.000000\n",
      "75%           1.000000\n",
      "max          20.000000\n",
      "Name: NumberOfDependents, dtype: float64\n"
     ]
    }
   ],
   "source": [
    "for col in df_train.columns:\n",
    "    print(df_train.describe()[col])"
   ]
  },
  {
   "cell_type": "code",
   "execution_count": 52,
   "metadata": {},
   "outputs": [
    {
     "data": {
      "text/plain": [
       "count    150000.000000\n",
       "mean          0.066840\n",
       "std           0.249746\n",
       "min           0.000000\n",
       "25%           0.000000\n",
       "50%           0.000000\n",
       "75%           0.000000\n",
       "max           1.000000\n",
       "Name: SeriousDlqin2yrs, dtype: float64"
      ]
     },
     "execution_count": 52,
     "metadata": {},
     "output_type": "execute_result"
    }
   ],
   "source": [
    "df_train.describe()['SeriousDlqin2yrs']"
   ]
  },
  {
   "cell_type": "markdown",
   "metadata": {},
   "source": [
    "### 处理缺失值，从上面可以看出MonthlyIncome，NumberOfDependents存在缺失值，这里打算通过随机森林的方式进行预测填充"
   ]
  },
  {
   "cell_type": "code",
   "execution_count": 53,
   "metadata": {},
   "outputs": [
    {
     "data": {
      "text/plain": [
       "<matplotlib.axes._subplots.AxesSubplot at 0x26a91f6d6c8>"
      ]
     },
     "execution_count": 53,
     "metadata": {},
     "output_type": "execute_result"
    },
    {
     "data": {
      "image/png": "[encoded data removed]",
      "text/plain": [
       "<Figure size 720x504 with 2 Axes>"
      ]
     },
     "metadata": {
      "needs_background": "light"
     },
     "output_type": "display_data"
    }
   ],
   "source": [
    "#先看下相关性\n",
    "corr = df_train.corr()\n",
    "fig = plt.figure(figsize=(10,7))\n",
    "sns.heatmap(corr, cmap='coolwarm', annot=True)"
   ]
  },
  {
   "cell_type": "code",
   "execution_count": 54,
   "metadata": {},
   "outputs": [],
   "source": [
    "from sklearn.metrics import mean_absolute_error, mean_squared_error, r2_score\n",
    "def regression_model_stats(model, x_train, x_test, y_train, y_test, name):\n",
    "    model = model.fit(x_train, y_train)\n",
    "    y_pred = model.predict(x_test)\n",
    "    #pd.DataFrame({'hh':list(y_pred)}).to_csv('hh.csv')\n",
    "    mae = mean_absolute_error(y_pred, y_test)\n",
    "    mse= mean_squared_error(y_pred, y_test)\n",
    "    rmse= mse ** 0.5\n",
    "    r2 =r2_score(y_test, y_pred)\n",
    "    print('Model used:' ,name)\n",
    "    print('{} MAE:{}%' .format(name, mae))\n",
    "    print('{} MSE:{}%'.format(name, mse))\n",
    "    print('{} RMSE:{}'.format(name, rmse))\n",
    "    print('{} R Squared:{}%'.format(name,r2))\n",
    "    return mae, mse, rmse, r2"
   ]
  },
  {
   "cell_type": "code",
   "execution_count": 55,
   "metadata": {},
   "outputs": [
    {
     "name": "stdout",
     "output_type": "stream",
     "text": [
      "Model used: RandomRorest\n",
      "RandomRorest MAE:2617.2082517970075%\n",
      "RandomRorest MSE:83551786.7886046%\n",
      "RandomRorest RMSE:9140.666649025365\n",
      "RandomRorest R Squared:0.2788258723098038%\n"
     ]
    }
   ],
   "source": [
    "#预测填充MonthlyIncome\n",
    "from sklearn.ensemble import RandomForestRegressor\n",
    "from xgboost import XGBRegressor\n",
    "from sklearn.model_selection import train_test_split\n",
    "from sklearn.preprocessing import MinMaxScaler\n",
    "\n",
    "MonthlyIncomeTrain_y = df_train[(df_train['MonthlyIncome'].notnull()) & (df_train['MonthlyIncome'] > 10)]['MonthlyIncome'].copy()\n",
    "MonthlyIncomeTrain_X =  df_train[df_train['MonthlyIncome'].notnull()  & (df_train['MonthlyIncome'] > 10)].drop(['NumberOfDependents','MonthlyIncome','SeriousDlqin2yrs'], axis=1)\n",
    "\n",
    "MonthlyIncomeTest_X = df_train[(df_train['MonthlyIncome'].isnull()) | (df_train['MonthlyIncome'] <=10)].drop(['NumberOfDependents','MonthlyIncome','SeriousDlqin2yrs'], axis=1)\n",
    "scaler = MinMaxScaler()\n",
    "x_IM_train_scaler = scaler.fit_transform(MonthlyIncomeTrain_X)\n",
    "x_IM_test_scaler = scaler.transform(MonthlyIncomeTest_X)\n",
    "\n",
    "MI_train_x, MI_valid_x, MI_train_y, MI_valid_y = train_test_split(x_IM_train_scaler, MonthlyIncomeTrain_y, test_size=0.1)\n",
    "#model = RandomForestRegressor(n_estimators=512,  max_depth=10)\n",
    "#这里尝试了下xgboost\n",
    "model = XGBRegressor(n_estimators=1000, learning_rate=0.1,  max_depth=7)\n",
    "mae, mse, rmse, r2 =  regression_model_stats(model, MI_train_x, MI_valid_x, MI_train_y, MI_valid_y, 'RandomRorest')\n",
    "\n"
   ]
  },
  {
   "cell_type": "code",
   "execution_count": 56,
   "metadata": {},
   "outputs": [
    {
     "data": {
      "text/plain": [
       "array([  230.41399,  -126.15487,   734.1045 , ..., 10451.512  ,\n",
       "         181.61992,  3095.2795 ], dtype=float32)"
      ]
     },
     "execution_count": 56,
     "metadata": {},
     "output_type": "execute_result"
    }
   ],
   "source": [
    "model.predict(x_IM_test_scaler)"
   ]
  },
  {
   "cell_type": "code",
   "execution_count": 57,
   "metadata": {},
   "outputs": [],
   "source": [
    "#预测的效果好像并没有那么好，不过还是按照这个思路做\n",
    "df_train.loc[(df_train['MonthlyIncome'].isnull()) | (df_train['MonthlyIncome'] <=10),'MonthlyIncome'] = model.predict(x_IM_test_scaler)"
   ]
  },
  {
   "cell_type": "code",
   "execution_count": 58,
   "metadata": {},
   "outputs": [
    {
     "data": {
      "text/plain": [
       "Index(['RevolvingUtilizationOfUnsecuredLines', 'age',\n",
       "       'NumberOfTime30-59DaysPastDueNotWorse', 'DebtRatio',\n",
       "       'NumberOfOpenCreditLinesAndLoans', 'NumberOfTimes90DaysLate',\n",
       "       'NumberRealEstateLoansOrLines', 'NumberOfTime60-89DaysPastDueNotWorse'],\n",
       "      dtype='object')"
      ]
     },
     "execution_count": 58,
     "metadata": {},
     "output_type": "execute_result"
    }
   ],
   "source": [
    "MonthlyIncomeTrain_X.columns\n",
    "MonthlyIncomeTest_X.columns\n",
    "#list(model.predict(x_IM_test_scaler))"
   ]
  },
  {
   "cell_type": "code",
   "execution_count": 59,
   "metadata": {},
   "outputs": [],
   "source": [
    "#填充NumberOfDependents\n",
    "df_train['NumberOfDependents'].fillna(df_train['NumberOfDependents'].median(), inplace=True)"
   ]
  },
  {
   "cell_type": "code",
   "execution_count": 60,
   "metadata": {},
   "outputs": [
    {
     "data": {
      "text/plain": [
       "SeriousDlqin2yrs                        0\n",
       "RevolvingUtilizationOfUnsecuredLines    0\n",
       "age                                     0\n",
       "NumberOfTime30-59DaysPastDueNotWorse    0\n",
       "DebtRatio                               0\n",
       "MonthlyIncome                           0\n",
       "NumberOfOpenCreditLinesAndLoans         0\n",
       "NumberOfTimes90DaysLate                 0\n",
       "NumberRealEstateLoansOrLines            0\n",
       "NumberOfTime60-89DaysPastDueNotWorse    0\n",
       "NumberOfDependents                      0\n",
       "dtype: int64"
      ]
     },
     "execution_count": 60,
     "metadata": {},
     "output_type": "execute_result"
    }
   ],
   "source": [
    "#df_train['NumberOfDependents']\n",
    "df_train.isnull().sum()"
   ]
  },
  {
   "cell_type": "markdown",
   "metadata": {},
   "source": [
    "# 数据进行分箱"
   ]
  },
  {
   "cell_type": "code",
   "execution_count": 61,
   "metadata": {},
   "outputs": [
    {
     "data": {
      "text/html": [
       "<div>\n",
       "<style scoped>\n",
       "    .dataframe tbody tr th:only-of-type {\n",
       "        vertical-align: middle;\n",
       "    }\n",
       "\n",
       "    .dataframe tbody tr th {\n",
       "        vertical-align: top;\n",
       "    }\n",
       "\n",
       "    .dataframe thead th {\n",
       "        text-align: right;\n",
       "    }\n",
       "</style>\n",
       "<table border=\"1\" class=\"dataframe\">\n",
       "  <thead>\n",
       "    <tr style=\"text-align: right;\">\n",
       "      <th></th>\n",
       "      <th>age</th>\n",
       "      <th>bin_age</th>\n",
       "    </tr>\n",
       "  </thead>\n",
       "  <tbody>\n",
       "    <tr>\n",
       "      <td>0</td>\n",
       "      <td>45</td>\n",
       "      <td>(40.0, 50.0]</td>\n",
       "    </tr>\n",
       "    <tr>\n",
       "      <td>1</td>\n",
       "      <td>40</td>\n",
       "      <td>(25.0, 40.0]</td>\n",
       "    </tr>\n",
       "    <tr>\n",
       "      <td>2</td>\n",
       "      <td>38</td>\n",
       "      <td>(25.0, 40.0]</td>\n",
       "    </tr>\n",
       "    <tr>\n",
       "      <td>3</td>\n",
       "      <td>30</td>\n",
       "      <td>(25.0, 40.0]</td>\n",
       "    </tr>\n",
       "    <tr>\n",
       "      <td>4</td>\n",
       "      <td>49</td>\n",
       "      <td>(40.0, 50.0]</td>\n",
       "    </tr>\n",
       "    <tr>\n",
       "      <td>...</td>\n",
       "      <td>...</td>\n",
       "      <td>...</td>\n",
       "    </tr>\n",
       "    <tr>\n",
       "      <td>149995</td>\n",
       "      <td>74</td>\n",
       "      <td>(70.0, inf]</td>\n",
       "    </tr>\n",
       "    <tr>\n",
       "      <td>149996</td>\n",
       "      <td>44</td>\n",
       "      <td>(40.0, 50.0]</td>\n",
       "    </tr>\n",
       "    <tr>\n",
       "      <td>149997</td>\n",
       "      <td>58</td>\n",
       "      <td>(50.0, 60.0]</td>\n",
       "    </tr>\n",
       "    <tr>\n",
       "      <td>149998</td>\n",
       "      <td>30</td>\n",
       "      <td>(25.0, 40.0]</td>\n",
       "    </tr>\n",
       "    <tr>\n",
       "      <td>149999</td>\n",
       "      <td>64</td>\n",
       "      <td>(60.0, 70.0]</td>\n",
       "    </tr>\n",
       "  </tbody>\n",
       "</table>\n",
       "<p>150000 rows × 2 columns</p>\n",
       "</div>"
      ],
      "text/plain": [
       "        age       bin_age\n",
       "0        45  (40.0, 50.0]\n",
       "1        40  (25.0, 40.0]\n",
       "2        38  (25.0, 40.0]\n",
       "3        30  (25.0, 40.0]\n",
       "4        49  (40.0, 50.0]\n",
       "...     ...           ...\n",
       "149995   74   (70.0, inf]\n",
       "149996   44  (40.0, 50.0]\n",
       "149997   58  (50.0, 60.0]\n",
       "149998   30  (25.0, 40.0]\n",
       "149999   64  (60.0, 70.0]\n",
       "\n",
       "[150000 rows x 2 columns]"
      ]
     },
     "execution_count": 61,
     "metadata": {},
     "output_type": "execute_result"
    }
   ],
   "source": [
    "import math\n",
    "#对于age字段，分成6段 [-math.inf, 25, 40, 50, 60, 70, math.inf],自定义分箱\n",
    "ages_bins= [-math.inf, 25, 40, 50, 60, 70, math.inf]\n",
    "#df_train['age'].value_counts()\n",
    "df_train['bin_age'] = pd.cut(df_train['age'], bins=ages_bins)\n",
    "df_train[['age','bin_age']]"
   ]
  },
  {
   "cell_type": "code",
   "execution_count": 62,
   "metadata": {},
   "outputs": [
    {
     "data": {
      "text/html": [
       "<div>\n",
       "<style scoped>\n",
       "    .dataframe tbody tr th:only-of-type {\n",
       "        vertical-align: middle;\n",
       "    }\n",
       "\n",
       "    .dataframe tbody tr th {\n",
       "        vertical-align: top;\n",
       "    }\n",
       "\n",
       "    .dataframe thead th {\n",
       "        text-align: right;\n",
       "    }\n",
       "</style>\n",
       "<table border=\"1\" class=\"dataframe\">\n",
       "  <thead>\n",
       "    <tr style=\"text-align: right;\">\n",
       "      <th></th>\n",
       "      <th>NumberOfDependents</th>\n",
       "      <th>bin_NumberOfDependents</th>\n",
       "    </tr>\n",
       "  </thead>\n",
       "  <tbody>\n",
       "    <tr>\n",
       "      <td>0</td>\n",
       "      <td>2.0</td>\n",
       "      <td>(-inf, 2.0]</td>\n",
       "    </tr>\n",
       "    <tr>\n",
       "      <td>1</td>\n",
       "      <td>1.0</td>\n",
       "      <td>(-inf, 2.0]</td>\n",
       "    </tr>\n",
       "    <tr>\n",
       "      <td>2</td>\n",
       "      <td>0.0</td>\n",
       "      <td>(-inf, 2.0]</td>\n",
       "    </tr>\n",
       "    <tr>\n",
       "      <td>3</td>\n",
       "      <td>0.0</td>\n",
       "      <td>(-inf, 2.0]</td>\n",
       "    </tr>\n",
       "    <tr>\n",
       "      <td>4</td>\n",
       "      <td>0.0</td>\n",
       "      <td>(-inf, 2.0]</td>\n",
       "    </tr>\n",
       "  </tbody>\n",
       "</table>\n",
       "</div>"
      ],
      "text/plain": [
       "   NumberOfDependents bin_NumberOfDependents\n",
       "0                 2.0            (-inf, 2.0]\n",
       "1                 1.0            (-inf, 2.0]\n",
       "2                 0.0            (-inf, 2.0]\n",
       "3                 0.0            (-inf, 2.0]\n",
       "4                 0.0            (-inf, 2.0]"
      ]
     },
     "execution_count": 62,
     "metadata": {},
     "output_type": "execute_result"
    }
   ],
   "source": [
    "#对于NumberOfDependents（家属人数）字段，分成6段[-math.inf,2,4,6,8,10,math.inf]\n",
    "dependents_bins = [-math.inf,2,4,6,8,10,math.inf]\n",
    "df_train['bin_NumberOfDependents'] = pd.cut(df_train['NumberOfDependents'],bins=dependents_bins)\n",
    "df_train[['NumberOfDependents','bin_NumberOfDependents']].head()"
   ]
  },
  {
   "cell_type": "code",
   "execution_count": 63,
   "metadata": {},
   "outputs": [],
   "source": [
    "#对于3种逾期次数，即NumberOfTime30-59DaysPastDueNotWorse，NumberOfTime60-89DaysPastDueNotWorse，NumberOfTimes90DaysLate，分成10段\n",
    "#[-math.inf,1,2,3,4,5,6,7,8,9,math.inf]\n",
    "dpd_bins = [-math.inf,1,2,3,4,5,6,7,8,9,math.inf]\n",
    "df_train['bin_NumberOfTime30-59DaysPastDueNotWorse'] = pd.cut(df_train['NumberOfTime30-59DaysPastDueNotWorse'], bins=dpd_bins)\n",
    "df_train['bin_NumberOfTime60-89DaysPastDueNotWorse'] = pd.cut(df_train['NumberOfTime60-89DaysPastDueNotWorse'], bins=dpd_bins)\n",
    "df_train['bin_NumberOfTimes90DaysLate'] = pd.cut(df_train['NumberOfTimes90DaysLate'], bins=dpd_bins)"
   ]
  },
  {
   "cell_type": "code",
   "execution_count": 64,
   "metadata": {},
   "outputs": [],
   "source": [
    "#对于其余字段，即RevolvingUtilizationOfUnsecuredLines, \n",
    "#DebtRatio, MonthlyIncome, NumberOfOpenCreditLinesAndLoans, NumberRealEstateLoansOrLines 分成5段\n",
    "df_train['bin_RevolvingUtilizationOfUnsecuredLines'] = pd.qcut(df_train['RevolvingUtilizationOfUnsecuredLines'], q=5, duplicates='drop')\n",
    "df_train['bin_DebtRatio'] = pd.qcut(df_train['DebtRatio'], q=5, duplicates='drop')\n",
    "df_train['bin_MonthlyIncome'] = pd.qcut(df_train['MonthlyIncome'], q=5, duplicates='drop')\n",
    "df_train['bin_NumberOfOpenCreditLinesAndLoans'] = pd.qcut(df_train['NumberOfOpenCreditLinesAndLoans'], q=5, duplicates='drop')\n",
    "df_train['bin_NumberRealEstateLoansOrLines'] = pd.qcut(df_train['NumberRealEstateLoansOrLines'], q=5, duplicates='drop')\n"
   ]
  },
  {
   "cell_type": "code",
   "execution_count": 65,
   "metadata": {},
   "outputs": [
    {
     "data": {
      "text/plain": [
       "['bin_age',\n",
       " 'bin_NumberOfDependents',\n",
       " 'bin_NumberOfTime30-59DaysPastDueNotWorse',\n",
       " 'bin_NumberOfTime60-89DaysPastDueNotWorse',\n",
       " 'bin_NumberOfTimes90DaysLate',\n",
       " 'bin_RevolvingUtilizationOfUnsecuredLines',\n",
       " 'bin_DebtRatio',\n",
       " 'bin_MonthlyIncome',\n",
       " 'bin_NumberOfOpenCreditLinesAndLoans',\n",
       " 'bin_NumberRealEstateLoansOrLines']"
      ]
     },
     "execution_count": 65,
     "metadata": {},
     "output_type": "execute_result"
    }
   ],
   "source": [
    "bin_cols = [c for c in df_train.columns if c.startswith('bin_')]\n",
    "bin_cols"
   ]
  },
  {
   "cell_type": "code",
   "execution_count": 66,
   "metadata": {},
   "outputs": [],
   "source": [
    "#计算IV值， 衡量自变量的预测能力\n",
    "def cal_IV(df, feature, target):\n",
    "    cols = ['col','value','all','bad','good']\n",
    "    base_list = []\n",
    "    for val in df[feature].unique():\n",
    "        count = df[df[feature] == val][feature].count()\n",
    "        bad = df[(df[feature] == val ) & (df[target] == 1)][feature].count()\n",
    "        good = df[(df[feature] == val ) & (df[target] == 0)][feature].count()\n",
    "        base_list.append([feature, val , count, bad, good])\n",
    "    data = pd.DataFrame(base_list, columns=cols)\n",
    "    data['margin_bad_rate'] = data['bad']/data['bad'].sum()\n",
    "    data.loc[data['margin_bad_rate']== 0, 'margin_bad_rate'] = 0.00001\n",
    "    data['margin_good_rate'] = data['good']/data['good'].sum()\n",
    "    #这个地方很奇怪，老师视频中没有出现在Rbin_NumberOfDependents下，会出现 log为0时的-inf的报警，untimeWarning: divide by zero encountered in log\n",
    "    data['WOE'] = np.log(data['margin_bad_rate']/data['margin_good_rate']) \n",
    "    data['IV'] = (data['margin_bad_rate'] - data['margin_good_rate'])*data['WOE']\n",
    "    #print(data)\n",
    "    print(feature, data['IV'].sum())\n",
    "    return data['IV'].sum()"
   ]
  },
  {
   "cell_type": "code",
   "execution_count": 67,
   "metadata": {},
   "outputs": [
    {
     "data": {
      "text/html": [
       "<div>\n",
       "<style scoped>\n",
       "    .dataframe tbody tr th:only-of-type {\n",
       "        vertical-align: middle;\n",
       "    }\n",
       "\n",
       "    .dataframe tbody tr th {\n",
       "        vertical-align: top;\n",
       "    }\n",
       "\n",
       "    .dataframe thead th {\n",
       "        text-align: right;\n",
       "    }\n",
       "</style>\n",
       "<table border=\"1\" class=\"dataframe\">\n",
       "  <thead>\n",
       "    <tr style=\"text-align: right;\">\n",
       "      <th></th>\n",
       "      <th>NumberOfDependents</th>\n",
       "      <th>SeriousDlqin2yrs</th>\n",
       "    </tr>\n",
       "  </thead>\n",
       "  <tbody>\n",
       "    <tr>\n",
       "      <td>6299</td>\n",
       "      <td>20.0</td>\n",
       "      <td>0</td>\n",
       "    </tr>\n",
       "    <tr>\n",
       "      <td>10618</td>\n",
       "      <td>10.0</td>\n",
       "      <td>0</td>\n",
       "    </tr>\n",
       "    <tr>\n",
       "      <td>12982</td>\n",
       "      <td>10.0</td>\n",
       "      <td>0</td>\n",
       "    </tr>\n",
       "    <tr>\n",
       "      <td>22698</td>\n",
       "      <td>10.0</td>\n",
       "      <td>0</td>\n",
       "    </tr>\n",
       "    <tr>\n",
       "      <td>39095</td>\n",
       "      <td>10.0</td>\n",
       "      <td>0</td>\n",
       "    </tr>\n",
       "    <tr>\n",
       "      <td>123911</td>\n",
       "      <td>10.0</td>\n",
       "      <td>0</td>\n",
       "    </tr>\n",
       "    <tr>\n",
       "      <td>128034</td>\n",
       "      <td>13.0</td>\n",
       "      <td>0</td>\n",
       "    </tr>\n",
       "  </tbody>\n",
       "</table>\n",
       "</div>"
      ],
      "text/plain": [
       "        NumberOfDependents  SeriousDlqin2yrs\n",
       "6299                  20.0                 0\n",
       "10618                 10.0                 0\n",
       "12982                 10.0                 0\n",
       "22698                 10.0                 0\n",
       "39095                 10.0                 0\n",
       "123911                10.0                 0\n",
       "128034                13.0                 0"
      ]
     },
     "execution_count": 67,
     "metadata": {},
     "output_type": "execute_result"
    }
   ],
   "source": [
    "# 里面数据的确有问题，所以这里要处理下为0的情况\n",
    "df_train[df_train['NumberOfDependents'] >=10][['NumberOfDependents','SeriousDlqin2yrs']]"
   ]
  },
  {
   "cell_type": "code",
   "execution_count": 68,
   "metadata": {},
   "outputs": [
    {
     "name": "stdout",
     "output_type": "stream",
     "text": [
      "bin_age 0.24041120302785982\n",
      "bin_NumberOfDependents 0.01463012170541098\n",
      "bin_NumberOfTime30-59DaysPastDueNotWorse 0.492444774570198\n",
      "bin_NumberOfTime60-89DaysPastDueNotWorse 0.26655914618929066\n",
      "bin_NumberOfTimes90DaysLate 0.49160685733515563\n",
      "bin_RevolvingUtilizationOfUnsecuredLines 1.0596188771423887\n",
      "bin_DebtRatio 0.05948761145809681\n",
      "bin_MonthlyIncome 0.062171866996108154\n",
      "bin_NumberOfOpenCreditLinesAndLoans 0.04802315528985505\n",
      "bin_NumberRealEstateLoansOrLines 0.0120914141106244\n"
     ]
    }
   ],
   "source": [
    "#cal_IV(df_train, 'bin_NumberOfDependents', 'SeriousDlqin2yrs')\n",
    "#筛选出大于IV>0.1的col\n",
    "select_bin_col=[]\n",
    "for col in bin_cols:\n",
    "    IV = cal_IV(df_train, col, 'SeriousDlqin2yrs')\n",
    "    if IV>=0.1:\n",
    "        select_bin_col.append(col)"
   ]
  },
  {
   "cell_type": "code",
   "execution_count": 69,
   "metadata": {},
   "outputs": [
    {
     "data": {
      "text/plain": [
       "['bin_age',\n",
       " 'bin_NumberOfTime30-59DaysPastDueNotWorse',\n",
       " 'bin_NumberOfTime60-89DaysPastDueNotWorse',\n",
       " 'bin_NumberOfTimes90DaysLate',\n",
       " 'bin_RevolvingUtilizationOfUnsecuredLines']"
      ]
     },
     "execution_count": 69,
     "metadata": {},
     "output_type": "execute_result"
    }
   ],
   "source": [
    "select_bin_col"
   ]
  },
  {
   "cell_type": "code",
   "execution_count": 70,
   "metadata": {},
   "outputs": [],
   "source": [
    "def cal_WOE(df, feature, target):\n",
    "    df_woe = df.groupby([feature]).agg({target:['sum','count']})\n",
    "    df_woe.columns = list(map(''.join, df_woe.columns.values))\n",
    "    df_woe = df_woe.reset_index()\n",
    "    df_woe = df_woe.rename(columns={target+'sum':'bad', target+'count':'all'})\n",
    "    #计算WOE\n",
    "    #print(df_woe)\n",
    "    df_woe['good_rate'] = (df_woe['all'] - df_woe['bad'])/(df_woe['all'].sum() - df_woe['bad'].sum())\n",
    "    df_woe['bad_rate'] = df_woe['bad']/df_woe['bad'].sum()\n",
    "    df_woe.loc[df_woe['bad_rate']== 0, 'bad_rate'] = 0.00001\n",
    "    df_woe[feature+'_WOE'] = np.log(df_woe['bad_rate']/df_woe['good_rate'])\n",
    "    df =df.merge(df_woe[[feature, feature+'_WOE']], on=feature, how='left')\n",
    "    print(df_woe)\n",
    "    return df"
   ]
  },
  {
   "cell_type": "code",
   "execution_count": 71,
   "metadata": {},
   "outputs": [
    {
     "name": "stdout",
     "output_type": "stream",
     "text": [
      "        bin_age   bad    all  good_rate  bad_rate  bin_age_WOE\n",
      "0  (-inf, 25.0]   338   3028   0.019218  0.033712     0.562024\n",
      "1  (25.0, 40.0]  3296  32069   0.205560  0.328745     0.469547\n",
      "2  (40.0, 50.0]  2893  35037   0.229643  0.288550     0.228343\n",
      "3  (50.0, 60.0]  2149  34806   0.233308  0.214343    -0.084782\n",
      "4  (60.0, 70.0]   952  27424   0.189121  0.094953    -0.689003\n",
      "5   (70.0, inf]   398  17636   0.123151  0.039697    -1.132145\n",
      "  bin_NumberOfTime30-59DaysPastDueNotWorse   bad     all  good_rate  bad_rate  \\\n",
      "0                              (-inf, 1.0]  7450  142051   0.961614  0.743068   \n",
      "1                               (1.0, 2.0]  1219    4598   0.024140  0.121584   \n",
      "2                               (2.0, 3.0]   618    1754   0.008116  0.061640   \n",
      "3                               (3.0, 4.0]   318     747   0.003065  0.031718   \n",
      "4                               (4.0, 5.0]   154     342   0.001343  0.015360   \n",
      "5                               (5.0, 6.0]    74     140   0.000472  0.007381   \n",
      "6                               (6.0, 7.0]    28      54   0.000186  0.002793   \n",
      "7                               (7.0, 8.0]     8      25   0.000121  0.000798   \n",
      "8                               (8.0, 9.0]     4      12   0.000057  0.000399   \n",
      "9                               (9.0, inf]   153     277   0.000886  0.015260   \n",
      "\n",
      "   bin_NumberOfTime30-59DaysPastDueNotWorse_WOE  \n",
      "0                                     -0.257826  \n",
      "1                                      1.616726  \n",
      "2                                      2.027495  \n",
      "3                                      2.336869  \n",
      "4                                      2.436786  \n",
      "5                                      2.750685  \n",
      "6                                      2.710383  \n",
      "7                                      1.882503  \n",
      "8                                      1.943128  \n",
      "9                                      2.846431  \n",
      "  bin_NumberOfTime60-89DaysPastDueNotWorse   bad     all  good_rate  bad_rate  \\\n",
      "0                              (-inf, 1.0]  9033  148127   0.993713  0.900958   \n",
      "1                               (1.0, 2.0]   561    1118   0.003979  0.055955   \n",
      "2                               (2.0, 3.0]   180     318   0.000986  0.017953   \n",
      "3                               (3.0, 4.0]    65     105   0.000286  0.006483   \n",
      "4                               (4.0, 5.0]    21      34   0.000093  0.002095   \n",
      "5                               (5.0, 6.0]    12      16   0.000029  0.001197   \n",
      "6                               (6.0, 7.0]     5       9   0.000029  0.000499   \n",
      "7                               (7.0, 8.0]     1       2   0.000007  0.000100   \n",
      "8                               (8.0, 9.0]     0       1   0.000007  0.000010   \n",
      "9                               (9.0, inf]   148     270   0.000872  0.014762   \n",
      "\n",
      "   bin_NumberOfTime60-89DaysPastDueNotWorse_WOE  \n",
      "0                                     -0.097990  \n",
      "1                                      2.643431  \n",
      "2                                      2.901978  \n",
      "3                                      3.121783  \n",
      "4                                      3.115848  \n",
      "5                                      3.734887  \n",
      "6                                      2.859419  \n",
      "7                                      2.636275  \n",
      "8                                      0.336287  \n",
      "9                                      2.829466  \n",
      "  bin_NumberOfTimes90DaysLate   bad     all  good_rate  bad_rate  \\\n",
      "0                 (-inf, 1.0]  8319  146905   0.990084  0.829743   \n",
      "1                  (1.0, 2.0]   776    1555   0.005565  0.077399   \n",
      "2                  (2.0, 3.0]   385     667   0.002015  0.038400   \n",
      "3                  (3.0, 4.0]   195     291   0.000686  0.019449   \n",
      "4                  (4.0, 5.0]    83     131   0.000343  0.008278   \n",
      "5                  (5.0, 6.0]    48      80   0.000229  0.004788   \n",
      "6                  (6.0, 7.0]    31      38   0.000050  0.003092   \n",
      "7                  (7.0, 8.0]    15      21   0.000043  0.001496   \n",
      "8                  (8.0, 9.0]    14      19   0.000036  0.001396   \n",
      "9                  (9.0, inf]   160     293   0.000950  0.015959   \n",
      "\n",
      "   bin_NumberOfTimes90DaysLate_WOE  \n",
      "0                        -0.176674  \n",
      "1                         2.632416  \n",
      "2                         2.947611  \n",
      "3                         3.344926  \n",
      "4                         3.183915  \n",
      "5                         3.041740  \n",
      "6                         4.124352  \n",
      "7                         3.552566  \n",
      "8                         3.665894  \n",
      "9                         2.821100  \n",
      "  bin_RevolvingUtilizationOfUnsecuredLines   bad    all  good_rate  bad_rate  \\\n",
      "0                         (-0.001, 0.0192]   582  30000   0.210168  0.058049   \n",
      "1                         (0.0192, 0.0832]   497  30000   0.210775  0.049571   \n",
      "2                          (0.0832, 0.271]   877  30000   0.208060  0.087473   \n",
      "3                           (0.271, 0.699]  2107  30000   0.199273  0.210154   \n",
      "4                         (0.699, 50708.0]  5963  30000   0.171725  0.594754   \n",
      "\n",
      "   bin_RevolvingUtilizationOfUnsecuredLines_WOE  \n",
      "0                                     -1.286617  \n",
      "1                                     -1.447382  \n",
      "2                                     -0.866502  \n",
      "3                                      0.053164  \n",
      "4                                      1.242254  \n"
     ]
    }
   ],
   "source": [
    "df_train_new = df_train.copy()\n",
    "#df_train_new = cal_WOE(df_train, 'bin_age','SeriousDlqin2yrs')\n",
    "for col in select_bin_col:\n",
    "    df_train_new = cal_WOE(df_train_new, col,'SeriousDlqin2yrs')"
   ]
  },
  {
   "cell_type": "code",
   "execution_count": 72,
   "metadata": {},
   "outputs": [
    {
     "data": {
      "text/plain": [
       "Index(['SeriousDlqin2yrs', 'RevolvingUtilizationOfUnsecuredLines', 'age',\n",
       "       'NumberOfTime30-59DaysPastDueNotWorse', 'DebtRatio', 'MonthlyIncome',\n",
       "       'NumberOfOpenCreditLinesAndLoans', 'NumberOfTimes90DaysLate',\n",
       "       'NumberRealEstateLoansOrLines', 'NumberOfTime60-89DaysPastDueNotWorse',\n",
       "       'NumberOfDependents', 'bin_age', 'bin_NumberOfDependents',\n",
       "       'bin_NumberOfTime30-59DaysPastDueNotWorse',\n",
       "       'bin_NumberOfTime60-89DaysPastDueNotWorse',\n",
       "       'bin_NumberOfTimes90DaysLate',\n",
       "       'bin_RevolvingUtilizationOfUnsecuredLines', 'bin_DebtRatio',\n",
       "       'bin_MonthlyIncome', 'bin_NumberOfOpenCreditLinesAndLoans',\n",
       "       'bin_NumberRealEstateLoansOrLines', 'bin_age_WOE',\n",
       "       'bin_NumberOfTime30-59DaysPastDueNotWorse_WOE',\n",
       "       'bin_NumberOfTime60-89DaysPastDueNotWorse_WOE',\n",
       "       'bin_NumberOfTimes90DaysLate_WOE',\n",
       "       'bin_RevolvingUtilizationOfUnsecuredLines_WOE'],\n",
       "      dtype='object')"
      ]
     },
     "execution_count": 72,
     "metadata": {},
     "output_type": "execute_result"
    }
   ],
   "source": [
    "df_train_new.columns"
   ]
  },
  {
   "cell_type": "code",
   "execution_count": null,
   "metadata": {},
   "outputs": [],
   "source": []
  }
 ],
 "metadata": {
  "kernelspec": {
   "display_name": "Python 3",
   "language": "python",
   "name": "python3"
  },
  "language_info": {
   "codemirror_mode": {
    "name": "ipython",
    "version": 3
   },
   "file_extension": ".py",
   "mimetype": "text/x-python",
   "name": "python",
   "nbconvert_exporter": "python",
   "pygments_lexer": "ipython3",
   "version": "3.7.4"
  }
 },
 "nbformat": 4,
 "nbformat_minor": 2
}
