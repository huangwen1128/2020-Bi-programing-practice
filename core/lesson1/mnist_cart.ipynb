{
 "cells": [
  {
   "cell_type": "code",
   "execution_count": 57,
   "metadata": {},
   "outputs": [
    {
     "name": "stdout",
     "output_type": "stream",
     "text": [
      "(60000, 28, 28) (60000,)\n",
      "CART准确率： 0.8800\n"
     ]
    },
    {
     "data": {
      "image/png": "[encoded data removed]",
      "text/plain": [
       "<Figure size 432x288 with 1 Axes>"
      ]
     },
     "metadata": {
      "needs_background": "light"
     },
     "output_type": "display_data"
    }
   ],
   "source": [
    "import tensorflow as tf\n",
    "import matplotlib.pyplot as plt\n",
    "from tensorflow.keras import Model, datasets\n",
    "from sklearn.tree import DecisionTreeClassifier\n",
    "from sklearn.metrics import accuracy_score\n",
    "from sklearn.model_selection import GridSearchCV\n",
    "\n",
    "mnist = tf.keras.datasets.mnist\n",
    "(X_train, y_train), (X_test, y_test) = mnist.load_data()\n",
    "X_train, X_test = X_train/255.0, X_test/255.0\n",
    "print(X_train.shape, y_train.shape)\n",
    "plt.imshow(X_train[1])\n",
    "X_train =  X_train.reshape(X_train.shape[0], 28*28)\n",
    "X_test =  X_test.reshape(X_test.shape[0], 28*28)\n",
    "'''\n",
    "clf = DecisionTreeClassifier()\n",
    "clf.fit(X_train, y_train)\n",
    "predict_target = clf.predict(X_test)\n",
    "print('CART准确率： %0.4lf' %accuracy_score(predict_target, y_test))\n",
    "'''\n",
    "\n",
    "'''\n",
    "a = {'splitter':['random'], 'random_state' :[0], 'max_depth' :[18,19,20]}\n",
    "search = GridSearchCV(DecisionTreeClassifier(),a, cv=10)\n",
    "search.fit(X_train,y_train)\n",
    "search.score(X_test,y_test)\n",
    "search.best_estimator_\n",
    "'''\n",
    "clf = DecisionTreeClassifier(random_state=0, max_depth=18)\n",
    "clf.fit(X_train, y_train)\n",
    "predict_target = clf.predict(X_test)\n",
    "print('CART准确率： %0.4lf' %accuracy_score(predict_target, y_test))"
   ]
  },
  {
   "cell_type": "code",
   "execution_count": 54,
   "metadata": {},
   "outputs": [
    {
     "data": {
      "text/plain": [
       "0.8779"
      ]
     },
     "execution_count": 54,
     "metadata": {},
     "output_type": "execute_result"
    }
   ],
   "source": [
    "search.score(X_test,y_test)"
   ]
  }
 ],
 "metadata": {
  "kernelspec": {
   "display_name": "Python 3",
   "language": "python",
   "name": "python3"
  },
  "language_info": {
   "codemirror_mode": {
    "name": "ipython",
    "version": 3
   },
   "file_extension": ".py",
   "mimetype": "text/x-python",
   "name": "python",
   "nbconvert_exporter": "python",
   "pygments_lexer": "ipython3",
   "version": "3.7.4"
  }
 },
 "nbformat": 4,
 "nbformat_minor": 2
}
