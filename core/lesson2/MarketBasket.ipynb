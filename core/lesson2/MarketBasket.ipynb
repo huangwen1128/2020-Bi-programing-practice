{
 "cells": [
  {
   "cell_type": "code",
   "execution_count": 90,
   "metadata": {},
   "outputs": [
    {
     "data": {
      "text/html": [
       "<div>\n",
       "<style scoped>\n",
       "    .dataframe tbody tr th:only-of-type {\n",
       "        vertical-align: middle;\n",
       "    }\n",
       "\n",
       "    .dataframe tbody tr th {\n",
       "        vertical-align: top;\n",
       "    }\n",
       "\n",
       "    .dataframe thead th {\n",
       "        text-align: right;\n",
       "    }\n",
       "</style>\n",
       "<table border=\"1\" class=\"dataframe\">\n",
       "  <thead>\n",
       "    <tr style=\"text-align: right;\">\n",
       "      <th></th>\n",
       "      <th>0</th>\n",
       "      <th>1</th>\n",
       "      <th>2</th>\n",
       "      <th>3</th>\n",
       "      <th>4</th>\n",
       "      <th>5</th>\n",
       "      <th>6</th>\n",
       "      <th>7</th>\n",
       "      <th>8</th>\n",
       "      <th>9</th>\n",
       "      <th>10</th>\n",
       "      <th>11</th>\n",
       "      <th>12</th>\n",
       "      <th>13</th>\n",
       "      <th>14</th>\n",
       "      <th>15</th>\n",
       "      <th>16</th>\n",
       "      <th>17</th>\n",
       "      <th>18</th>\n",
       "      <th>19</th>\n",
       "    </tr>\n",
       "  </thead>\n",
       "  <tbody>\n",
       "    <tr>\n",
       "      <td>0</td>\n",
       "      <td>shrimp</td>\n",
       "      <td>almonds</td>\n",
       "      <td>avocado</td>\n",
       "      <td>vegetables mix</td>\n",
       "      <td>green grapes</td>\n",
       "      <td>whole weat flour</td>\n",
       "      <td>yams</td>\n",
       "      <td>cottage cheese</td>\n",
       "      <td>energy drink</td>\n",
       "      <td>tomato juice</td>\n",
       "      <td>low fat yogurt</td>\n",
       "      <td>green tea</td>\n",
       "      <td>honey</td>\n",
       "      <td>salad</td>\n",
       "      <td>mineral water</td>\n",
       "      <td>salmon</td>\n",
       "      <td>antioxydant juice</td>\n",
       "      <td>frozen smoothie</td>\n",
       "      <td>spinach</td>\n",
       "      <td>olive oil</td>\n",
       "    </tr>\n",
       "    <tr>\n",
       "      <td>1</td>\n",
       "      <td>burgers</td>\n",
       "      <td>meatballs</td>\n",
       "      <td>eggs</td>\n",
       "      <td>NaN</td>\n",
       "      <td>NaN</td>\n",
       "      <td>NaN</td>\n",
       "      <td>NaN</td>\n",
       "      <td>NaN</td>\n",
       "      <td>NaN</td>\n",
       "      <td>NaN</td>\n",
       "      <td>NaN</td>\n",
       "      <td>NaN</td>\n",
       "      <td>NaN</td>\n",
       "      <td>NaN</td>\n",
       "      <td>NaN</td>\n",
       "      <td>NaN</td>\n",
       "      <td>NaN</td>\n",
       "      <td>NaN</td>\n",
       "      <td>NaN</td>\n",
       "      <td>NaN</td>\n",
       "    </tr>\n",
       "    <tr>\n",
       "      <td>2</td>\n",
       "      <td>chutney</td>\n",
       "      <td>NaN</td>\n",
       "      <td>NaN</td>\n",
       "      <td>NaN</td>\n",
       "      <td>NaN</td>\n",
       "      <td>NaN</td>\n",
       "      <td>NaN</td>\n",
       "      <td>NaN</td>\n",
       "      <td>NaN</td>\n",
       "      <td>NaN</td>\n",
       "      <td>NaN</td>\n",
       "      <td>NaN</td>\n",
       "      <td>NaN</td>\n",
       "      <td>NaN</td>\n",
       "      <td>NaN</td>\n",
       "      <td>NaN</td>\n",
       "      <td>NaN</td>\n",
       "      <td>NaN</td>\n",
       "      <td>NaN</td>\n",
       "      <td>NaN</td>\n",
       "    </tr>\n",
       "    <tr>\n",
       "      <td>3</td>\n",
       "      <td>turkey</td>\n",
       "      <td>avocado</td>\n",
       "      <td>NaN</td>\n",
       "      <td>NaN</td>\n",
       "      <td>NaN</td>\n",
       "      <td>NaN</td>\n",
       "      <td>NaN</td>\n",
       "      <td>NaN</td>\n",
       "      <td>NaN</td>\n",
       "      <td>NaN</td>\n",
       "      <td>NaN</td>\n",
       "      <td>NaN</td>\n",
       "      <td>NaN</td>\n",
       "      <td>NaN</td>\n",
       "      <td>NaN</td>\n",
       "      <td>NaN</td>\n",
       "      <td>NaN</td>\n",
       "      <td>NaN</td>\n",
       "      <td>NaN</td>\n",
       "      <td>NaN</td>\n",
       "    </tr>\n",
       "    <tr>\n",
       "      <td>4</td>\n",
       "      <td>mineral water</td>\n",
       "      <td>milk</td>\n",
       "      <td>energy bar</td>\n",
       "      <td>whole wheat rice</td>\n",
       "      <td>green tea</td>\n",
       "      <td>NaN</td>\n",
       "      <td>NaN</td>\n",
       "      <td>NaN</td>\n",
       "      <td>NaN</td>\n",
       "      <td>NaN</td>\n",
       "      <td>NaN</td>\n",
       "      <td>NaN</td>\n",
       "      <td>NaN</td>\n",
       "      <td>NaN</td>\n",
       "      <td>NaN</td>\n",
       "      <td>NaN</td>\n",
       "      <td>NaN</td>\n",
       "      <td>NaN</td>\n",
       "      <td>NaN</td>\n",
       "      <td>NaN</td>\n",
       "    </tr>\n",
       "  </tbody>\n",
       "</table>\n",
       "</div>"
      ],
      "text/plain": [
       "              0          1           2                 3             4   \\\n",
       "0         shrimp    almonds     avocado    vegetables mix  green grapes   \n",
       "1        burgers  meatballs        eggs               NaN           NaN   \n",
       "2        chutney        NaN         NaN               NaN           NaN   \n",
       "3         turkey    avocado         NaN               NaN           NaN   \n",
       "4  mineral water       milk  energy bar  whole wheat rice     green tea   \n",
       "\n",
       "                 5     6               7             8             9   \\\n",
       "0  whole weat flour  yams  cottage cheese  energy drink  tomato juice   \n",
       "1               NaN   NaN             NaN           NaN           NaN   \n",
       "2               NaN   NaN             NaN           NaN           NaN   \n",
       "3               NaN   NaN             NaN           NaN           NaN   \n",
       "4               NaN   NaN             NaN           NaN           NaN   \n",
       "\n",
       "               10         11     12     13             14      15  \\\n",
       "0  low fat yogurt  green tea  honey  salad  mineral water  salmon   \n",
       "1             NaN        NaN    NaN    NaN            NaN     NaN   \n",
       "2             NaN        NaN    NaN    NaN            NaN     NaN   \n",
       "3             NaN        NaN    NaN    NaN            NaN     NaN   \n",
       "4             NaN        NaN    NaN    NaN            NaN     NaN   \n",
       "\n",
       "                  16               17       18         19  \n",
       "0  antioxydant juice  frozen smoothie  spinach  olive oil  \n",
       "1                NaN              NaN      NaN        NaN  \n",
       "2                NaN              NaN      NaN        NaN  \n",
       "3                NaN              NaN      NaN        NaN  \n",
       "4                NaN              NaN      NaN        NaN  "
      ]
     },
     "execution_count": 90,
     "metadata": {},
     "output_type": "execute_result"
    }
   ],
   "source": [
    "import pandas as pd\n",
    "from mlxtend.frequent_patterns import apriori\n",
    "from mlxtend.frequent_patterns import association_rules\n",
    "import datetime\n",
    "\n",
    "data = pd.read_csv('datasets_8127_11403_Market_Basket_Optimisation.csv',header=None)\n",
    "data1 = data.copy()\n",
    "data.head()"
   ]
  },
  {
   "cell_type": "code",
   "execution_count": 62,
   "metadata": {},
   "outputs": [
    {
     "name": "stdout",
     "output_type": "stream",
     "text": [
      "2020-07-25 14:26:41.082807\n",
      "2020-07-25 14:26:41.551554\n",
      "apriori cost time:0\n"
     ]
    },
    {
     "data": {
      "text/html": [
       "<div>\n",
       "<style scoped>\n",
       "    .dataframe tbody tr th:only-of-type {\n",
       "        vertical-align: middle;\n",
       "    }\n",
       "\n",
       "    .dataframe tbody tr th {\n",
       "        vertical-align: top;\n",
       "    }\n",
       "\n",
       "    .dataframe thead th {\n",
       "        text-align: right;\n",
       "    }\n",
       "</style>\n",
       "<table border=\"1\" class=\"dataframe\">\n",
       "  <thead>\n",
       "    <tr style=\"text-align: right;\">\n",
       "      <th></th>\n",
       "      <th>antecedents</th>\n",
       "      <th>consequents</th>\n",
       "      <th>antecedent support</th>\n",
       "      <th>consequent support</th>\n",
       "      <th>support</th>\n",
       "      <th>confidence</th>\n",
       "      <th>lift</th>\n",
       "      <th>leverage</th>\n",
       "      <th>conviction</th>\n",
       "    </tr>\n",
       "  </thead>\n",
       "  <tbody>\n",
       "    <tr>\n",
       "      <td>10</td>\n",
       "      <td>(herb &amp; pepper)</td>\n",
       "      <td>(ground beef)</td>\n",
       "      <td>0.049460</td>\n",
       "      <td>0.098254</td>\n",
       "      <td>0.015998</td>\n",
       "      <td>0.323450</td>\n",
       "      <td>3.291994</td>\n",
       "      <td>0.011138</td>\n",
       "      <td>1.332860</td>\n",
       "    </tr>\n",
       "    <tr>\n",
       "      <td>11</td>\n",
       "      <td>(ground beef)</td>\n",
       "      <td>(herb &amp; pepper)</td>\n",
       "      <td>0.098254</td>\n",
       "      <td>0.049460</td>\n",
       "      <td>0.015998</td>\n",
       "      <td>0.162822</td>\n",
       "      <td>3.291994</td>\n",
       "      <td>0.011138</td>\n",
       "      <td>1.135410</td>\n",
       "    </tr>\n",
       "    <tr>\n",
       "      <td>2</td>\n",
       "      <td>(spaghetti, mineral water)</td>\n",
       "      <td>(ground beef)</td>\n",
       "      <td>0.059725</td>\n",
       "      <td>0.098254</td>\n",
       "      <td>0.017064</td>\n",
       "      <td>0.285714</td>\n",
       "      <td>2.907928</td>\n",
       "      <td>0.011196</td>\n",
       "      <td>1.262445</td>\n",
       "    </tr>\n",
       "    <tr>\n",
       "      <td>5</td>\n",
       "      <td>(ground beef)</td>\n",
       "      <td>(spaghetti, mineral water)</td>\n",
       "      <td>0.098254</td>\n",
       "      <td>0.059725</td>\n",
       "      <td>0.017064</td>\n",
       "      <td>0.173677</td>\n",
       "      <td>2.907928</td>\n",
       "      <td>0.011196</td>\n",
       "      <td>1.137902</td>\n",
       "    </tr>\n",
       "    <tr>\n",
       "      <td>44</td>\n",
       "      <td>(spaghetti, mineral water)</td>\n",
       "      <td>(olive oil)</td>\n",
       "      <td>0.059725</td>\n",
       "      <td>0.065858</td>\n",
       "      <td>0.010265</td>\n",
       "      <td>0.171875</td>\n",
       "      <td>2.609786</td>\n",
       "      <td>0.006332</td>\n",
       "      <td>1.128021</td>\n",
       "    </tr>\n",
       "  </tbody>\n",
       "</table>\n",
       "</div>"
      ],
      "text/plain": [
       "                   antecedents                 consequents  \\\n",
       "10             (herb & pepper)               (ground beef)   \n",
       "11               (ground beef)             (herb & pepper)   \n",
       "2   (spaghetti, mineral water)               (ground beef)   \n",
       "5                (ground beef)  (spaghetti, mineral water)   \n",
       "44  (spaghetti, mineral water)                 (olive oil)   \n",
       "\n",
       "    antecedent support  consequent support   support  confidence      lift  \\\n",
       "10            0.049460            0.098254  0.015998    0.323450  3.291994   \n",
       "11            0.098254            0.049460  0.015998    0.162822  3.291994   \n",
       "2             0.059725            0.098254  0.017064    0.285714  2.907928   \n",
       "5             0.098254            0.059725  0.017064    0.173677  2.907928   \n",
       "44            0.059725            0.065858  0.010265    0.171875  2.609786   \n",
       "\n",
       "    leverage  conviction  \n",
       "10  0.011138    1.332860  \n",
       "11  0.011138    1.135410  \n",
       "2   0.011196    1.262445  \n",
       "5   0.011196    1.137902  \n",
       "44  0.006332    1.128021  "
      ]
     },
     "execution_count": 62,
     "metadata": {},
     "output_type": "execute_result"
    }
   ],
   "source": [
    "#apriori算法\n",
    "data['ColumnA'] = data[data.columns[0:]].apply(\n",
    "    lambda x: ','.join(x.dropna().astype(str)),\n",
    "    axis=1\n",
    ")\n",
    "data_merg =  pd.DataFrame(data=data['ColumnA'].values, columns=['ColumnA'])\n",
    "data_hot_encoded = data_merg.drop('ColumnA', 1).join(data_merg['ColumnA'].str.get_dummies(','))\n",
    "data_hot_encoded.head()\n",
    "begin = datetime.datetime.now()\n",
    "itemsets = apriori(data_hot_encoded, use_colnames=True, min_support=0.01)\n",
    "end = datetime.datetime.now()\n",
    "print(\"apriori cost time:%u\" % (end-begin).seconds)\n",
    "itemsets = itemsets.sort_values(by='support', ascending=False)\n",
    "pd.options.display.max_columns = 100\n",
    "rules = association_rules(itemsets, metric='lift', min_threshold=2)\n",
    "rules = rules.sort_values(by='lift',ascending=False)\n",
    "rules.head()\n",
    "\n"
   ]
  },
  {
   "cell_type": "code",
   "execution_count": 91,
   "metadata": {},
   "outputs": [
    {
     "name": "stdout",
     "output_type": "stream",
     "text": [
      "2020-07-25 14:56:08.618936\n",
      "2020-07-25 14:56:10.738245\n",
      "fpgrowth cost time: 2\n"
     ]
    }
   ],
   "source": [
    "#fpgrowth 算法\n",
    "import pyfpgrowth\n",
    "import numpy as np\n",
    "transactions= [list(i[~pd.isnull(i)]) for i in data1.values]\n",
    "transactions[0:10]\n",
    "begin = datetime.datetime.now()\n",
    "patterns = pyfpgrowth.find_frequent_patterns(transactions, 100)\n",
    "end = datetime.datetime.now()\n",
    "print(begin)\n",
    "print(end)\n",
    "print(\"fpgrowth cost time:\",format((end-begin).seconds))\n",
    "rules = pyfpgrowth.generate_association_rules(patterns, 1)\n",
    "\n"
   ]
  },
  {
   "cell_type": "code",
   "execution_count": 114,
   "metadata": {},
   "outputs": [
    {
     "data": {
      "text/plain": [
       "(7501, 20)"
      ]
     },
     "execution_count": 114,
     "metadata": {},
     "output_type": "execute_result"
    }
   ],
   "source": [
    "data.shape\n",
    "\n"
   ]
  },
  {
   "cell_type": "code",
   "execution_count": 174,
   "metadata": {},
   "outputs": [
    {
     "name": "stdout",
     "output_type": "stream",
     "text": [
      "35\n",
      "[frozenset({'burgers'}), frozenset({'cake'}), frozenset({'champagne'}), frozenset({'chicken'}), frozenset({'chocolate'}), frozenset({'cookies'}), frozenset({'cooking oil'}), frozenset({'eggs'}), frozenset({'escalope'}), frozenset({'french fries'}), frozenset({'fresh bread'}), frozenset({'frozen smoothie'}), frozenset({'frozen vegetables'}), frozenset({'grated cheese'}), frozenset({'green tea'}), frozenset({'ground beef'}), frozenset({'herb & pepper'}), frozenset({'honey'}), frozenset({'low fat yogurt'}), frozenset({'milk'}), frozenset({'mineral water'}), frozenset({'olive oil'}), frozenset({'pancakes'}), frozenset({'salmon'}), frozenset({'shrimp'}), frozenset({'soup'}), frozenset({'spaghetti'}), frozenset({'tomatoes'}), frozenset({'turkey'}), frozenset({'whole wheat rice'}), frozenset({'chocolate', 'mineral water'}), frozenset({'mineral water', 'eggs'}), frozenset({'mineral water', 'ground beef'}), frozenset({'milk', 'mineral water'}), frozenset({'spaghetti', 'mineral water'})]\n",
      "Wall time: 54.9 ms\n"
     ]
    }
   ],
   "source": [
    "%%time\n",
    "itemsets = apriori(data_hot_encoded, use_colnames=True, min_support=300/data.shape[0])\n",
    "print(len(itemsets))\n",
    "print(sorted(itemsets['itemsets'].values))"
   ]
  },
  {
   "cell_type": "code",
   "execution_count": 179,
   "metadata": {},
   "outputs": [
    {
     "name": "stdout",
     "output_type": "stream",
     "text": [
      "60\n",
      "[('avocado',), ('brownies',), ('burgers',), ('burgers', 'eggs'), ('butter',), ('cake',), ('cake', 'mineral water'), ('champagne',), ('chicken',), ('chocolate', 'eggs'), ('chocolate', 'french fries'), ('chocolate', 'milk'), ('chocolate', 'mineral water'), ('chocolate', 'spaghetti'), ('cookies',), ('cooking oil',), ('cottage cheese',), ('eggs',), ('eggs', 'french fries'), ('eggs', 'milk'), ('eggs', 'mineral water'), ('eggs', 'spaghetti'), ('energy bar',), ('energy drink',), ('escalope',), ('french fries', 'green tea'), ('french fries', 'mineral water'), ('french fries', 'spaghetti'), ('fresh bread',), ('frozen smoothie',), ('frozen vegetables', 'mineral water'), ('frozen vegetables', 'spaghetti'), ('grated cheese',), ('green tea', 'mineral water'), ('ground beef', 'mineral water'), ('ground beef', 'spaghetti'), ('ham',), ('herb & pepper',), ('honey',), ('hot dogs',), ('light mayo',), ('low fat yogurt',), ('milk', 'mineral water'), ('milk', 'spaghetti'), ('mineral water',), ('mineral water', 'olive oil'), ('mineral water', 'pancakes'), ('mineral water', 'spaghetti'), ('olive oil',), ('pancakes',), ('red wine',), ('salmon',), ('shrimp',), ('soup',), ('tomato juice',), ('tomatoes',), ('turkey',), ('whole wheat pasta',), ('whole wheat rice',), ('yogurt cake',)]\n",
      "Wall time: 213 ms\n"
     ]
    }
   ],
   "source": [
    "%%time\n",
    "patterns = pyfpgrowth.find_frequent_patterns(transactions, 200)\n",
    "print(len(patterns))\n",
    "print(sorted(patterns.keys()))"
   ]
  },
  {
   "cell_type": "code",
   "execution_count": 178,
   "metadata": {},
   "outputs": [
    {
     "name": "stdout",
     "output_type": "stream",
     "text": [
      "67\n",
      "[['avocado'], ['brownies'], ['burgers'], ['burgers', 'eggs'], ['butter'], ['cake'], ['cake', 'mineral water'], ['champagne'], ['chicken'], ['chocolate'], ['chocolate', 'eggs'], ['chocolate', 'french fries'], ['chocolate', 'mineral water'], ['chocolate', 'spaghetti'], ['cookies'], ['cooking oil'], ['cottage cheese'], ['eggs'], ['eggs', 'mineral water'], ['energy bar'], ['energy drink'], ['escalope'], ['french fries'], ['french fries', 'eggs'], ['french fries', 'mineral water'], ['french fries', 'spaghetti'], ['fresh bread'], ['frozen smoothie'], ['frozen vegetables'], ['frozen vegetables', 'mineral water'], ['frozen vegetables', 'spaghetti'], ['grated cheese'], ['green tea'], ['green tea', 'french fries'], ['green tea', 'mineral water'], ['ground beef'], ['ground beef', 'mineral water'], ['ground beef', 'spaghetti'], ['ham'], ['herb & pepper'], ['honey'], ['hot dogs'], ['light mayo'], ['low fat yogurt'], ['milk'], ['milk', 'chocolate'], ['milk', 'eggs'], ['milk', 'mineral water'], ['milk', 'spaghetti'], ['mineral water'], ['olive oil'], ['olive oil', 'mineral water'], ['pancakes'], ['pancakes', 'mineral water'], ['red wine'], ['salmon'], ['shrimp'], ['soup'], ['spaghetti'], ['spaghetti', 'eggs'], ['spaghetti', 'mineral water'], ['tomato juice'], ['tomatoes'], ['turkey'], ['whole wheat pasta'], ['whole wheat rice'], ['yogurt cake']]\n",
      "Wall time: 448 ms\n"
     ]
    }
   ],
   "source": [
    "%%time\n",
    "import fptools as fp\n",
    "mfis = [iset for iset in fp.frequent_itemsets(transactions, 200)]\n",
    "print(len(mfis))\n",
    "print(sorted(mfis))\n"
   ]
  },
  {
   "cell_type": "code",
   "execution_count": 177,
   "metadata": {},
   "outputs": [
    {
     "name": "stdout",
     "output_type": "stream",
     "text": [
      "359\n",
      "Wall time: 84.8 ms\n"
     ]
    }
   ],
   "source": [
    "%%time\n",
    "import fptools as fp\n",
    "tree = fp.build_tree(transactions, minsup=300)\n",
    "items =[i for i in fp.fpgrowth(tree[0], 50)]\n",
    "print(len(items))"
   ]
  },
  {
   "cell_type": "code",
   "execution_count": null,
   "metadata": {},
   "outputs": [],
   "source": []
  }
 ],
 "metadata": {
  "kernelspec": {
   "display_name": "Python 3",
   "language": "python",
   "name": "python3"
  },
  "language_info": {
   "codemirror_mode": {
    "name": "ipython",
    "version": 3
   },
   "file_extension": ".py",
   "mimetype": "text/x-python",
   "name": "python",
   "nbconvert_exporter": "python",
   "pygments_lexer": "ipython3",
   "version": "3.7.4"
  }
 },
 "nbformat": 4,
 "nbformat_minor": 2
}
