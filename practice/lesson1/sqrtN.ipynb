{
 "cells": [
  {
   "cell_type": "code",
   "execution_count": 41,
   "metadata": {},
   "outputs": [
    {
     "name": "stdout",
     "output_type": "stream",
     "text": [
      "<class 'float'>\n",
      "3.162277660157997\n",
      "0.0\n",
      "None\n"
     ]
    }
   ],
   "source": [
    "bias = 1e-10\n",
    "print(type(bias))\n",
    "def my_sqrt(num):\n",
    "    if num <0: return \n",
    "    begin=0\n",
    "    loss=end=num\n",
    "    while True:\n",
    "        #print(loss, bias)\n",
    "        middle = (begin+end)/2.0\n",
    "        loss = middle * middle - num\n",
    "        if (loss >= 0 and loss <=  bias) or (loss <0  and -loss <  bias):\n",
    "            return middle\n",
    "        if loss >0:  end = middle\n",
    "        else: begin = middle\n",
    "\n",
    "print(my_sqrt(10))\n",
    "\n",
    "print(my_sqrt(0))\n",
    "print(my_sqrt(-1))\n",
    "        \n",
    "            \n",
    "            \n",
    "    "
   ]
  },
  {
   "cell_type": "code",
   "execution_count": 39,
   "metadata": {},
   "outputs": [
    {
     "data": {
      "text/plain": [
       "3.162277660167092"
      ]
     },
     "execution_count": 39,
     "metadata": {},
     "output_type": "execute_result"
    }
   ],
   "source": [
    "3.162277660167092\n",
    "3.162277660157997\n"
   ]
  },
  {
   "cell_type": "code",
   "execution_count": null,
   "metadata": {},
   "outputs": [],
   "source": []
  }
 ],
 "metadata": {
  "kernelspec": {
   "display_name": "Python 3",
   "language": "python",
   "name": "python3"
  },
  "language_info": {
   "codemirror_mode": {
    "name": "ipython",
    "version": 3
   },
   "file_extension": ".py",
   "mimetype": "text/x-python",
   "name": "python",
   "nbconvert_exporter": "python",
   "pygments_lexer": "ipython3",
   "version": "3.7.4"
  }
 },
 "nbformat": 4,
 "nbformat_minor": 2
}
