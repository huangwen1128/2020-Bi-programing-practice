{
 "cells": [
  {
   "cell_type": "code",
   "execution_count": 58,
   "metadata": {},
   "outputs": [],
   "source": [
    "import jieba\n",
    "import requests\n",
    "import numpy as np\n",
    "import pandas as pd\n",
    "from lxml import etree\n",
    "from bs4 import BeautifulSoup\n",
    "import re\n",
    "from wordcloud import WordCloud\n",
    "import matplotlib.pyplot as plt\n",
    "from textrank4zh import TextRank4Keyword, TextRank4Sentence"
   ]
  },
  {
   "cell_type": "markdown",
   "metadata": {},
   "source": [
    "或者使用\n",
    "soup = BeautifulSoup(content, 'html.parser', from_encoding='utf-8')\n",
    "text = soup.get_text()"
   ]
  },
  {
   "cell_type": "code",
   "execution_count": 80,
   "metadata": {},
   "outputs": [
    {
     "name": "stdout",
     "output_type": "stream",
     "text": [
      "原标题：最震撼一幕，默克尔情绪近乎失控！节目列表小图播放器上视频还未开始播显示的图片，可与pic相同默克尔情绪近乎失控#  劝国民遵守防疫措施 减少接触',\t//标题视频发布来源。如：新华网。播放器外层在世界领导人中，默克尔应该是最沉得住气的一位女政治家。哪怕遭到特朗普各种羞辱痛批，她的回应，也只是默默贴出一张“六大门派围攻光明顶”的照片。但一大早醒来，看到默克尔最新演讲的一则短视频，确实非常非常震撼。这应该执政15年来，默克尔言辞最震撼、情绪最激动的一次演讲，说到痛心处，她双手合十，似乎在祈祷，有时几乎声泪俱下，近乎失控。视频不长，哪怕你不会德语，相信看完，你也能感受到默克尔的痛心和焦虑。这是昨天（12月9日）在德国议会的演讲，身着红色上装的默克尔大声疾呼：对不起，我真的很抱歉，发自内心。但如果我们付出的代价，是每天590人死亡，那这是不可接受的。看新闻，就在默克尔演讲前的24小时，德国死亡人数，突然暴增到590人。要知道，今年春天，德国还被认为是抗疫的模范生；哪知道到了秋冬季，德国发现自己也陷入了可怕的危机中。什么原因最重要的，应该还是隔离不够、接触太多。德国人不喜欢呆在家里，尤其是年轻人，他们喜欢酒吧、喜欢聚会。接下来就是圣诞假期，肯定是家人朋友间更多的密切接触。但在这个非常时期，对年迈的德国祖父母们来说，却可能是一场灾难。所以，默克尔警告：我只想说，如果我们现在接触太多，在圣诞节前夕，而这最后是和祖父母们在一起的最后一个圣诞节，那么我们就做错了什么。我们不应该让这种事发生。看她讲话时，几乎已经是哀求的口吻。有的时候，感觉就要哭出来了。也难怪德国《图片报》评价，这是默克尔担任德国总理15年来，最牵动人心的一次讲话。议员们一阵阵响亮掌声，就是一个证明。因为这种讲话背后，我们可以感觉到，她有对民众生死的深刻焦虑，她对科学家建议的高度重视，她对决策代价的敢于担当。她就像一个祖父母们一样，再三叮嘱不听话的德国青年，千万别在外面转悠聚会了，回家好好呆着，这个假期，也千万别和祖父母们多接触。不要让这个圣诞节，成为你们和祖父母过的最后一个圣诞节！够狠，但也够正确！坦率地说，在当今的所有女性政治家中，默克尔确实也是最让人敬佩的一个。不仅是因为她掌握的权力，更多是因为她的作为，以及个人魅力。她是来自东德的物理学博士，最终成为德国总理，一干就是15年。今年非常时期，德国虽然也不容乐观，但肯定比美国英国处理得更好，很多人说，这还是要归功于默克尔，她本身就是一个科学家，她尊重科学。不尊重科学，是要付出惨痛代价的。默克尔的能力，全世界看在眼里。其他不说了，就举她之前的两次讲话。她曾经直言不讳说：“当很多人认为美国在全球的优势是因为被中国抢占而丢失的时候，不要忘了这种可能——是美国主动放弃了全球领导者的角色。去年5月，她还专程去哈佛大学演讲，她告诉这些美国未来的精英：保护主义和贸易摩擦，正威胁着全球自由贸易以及经济繁荣的根基。我们千万不能称谎言为真相，也绝不能将真相视为谎言。我们不能将反常当作常态加以接受。她不是撒切尔夫人，她又非当年的铁娘子能比。哪怕贵为总理，她仍保持着朴素的生活，也时常买菜做饭。她不拒绝戴口罩，据说因为戴了口罩，很多次她都没被认出来。禁得起夸赞，更忍得住批评，俯得下身子。环顾这个世界，能够超越她的女性领导人，应该还没有出现。今年7月，她66岁生日时，立陶宛总理送了她一个指挥棒，葡萄牙总理给她赠书时，还特意竖了一个大拇指但默克尔也不乏考验。去年公开场合，她多次出现不受控制的突然颤抖。看当时的视频，她抿紧嘴唇，双手一度紧握，竭力想控制自己，但却有点无能为力。。。。。。而按照唇语专家的解读，当时默克尔还在不停重复“我能挺住”，应该是在给自己加油打气。我能挺住！听来多少有一些悲壮。后来，我们看到，很多次外交重要场合，她干脆就坐着检阅了仪仗队。时间总是最无情的敌人，健康总是最宝贵的财富，不管你是谁。如果不出意外的话，明年默克尔将卸任德国总理。一个时代结束了。但在卸任前夕，哪想到又遇到空前挑战，关键一些德国人还不听话。所以，这次在德国议会，一向冷静有加的她，几乎有点失控地发表了情绪最激动的一次讲话。情到深处，真是痛心疾首啊！德国年轻人，不要让这个圣诞节，成为你们和祖父母过的最后一个圣诞节！再说一遍，德国总体还是不错的。最严重的一天，死亡是590人；比德国总人口少得多的英国，死亡是700；更别提美国，最高时一天要接近3000。冷冰冰的数字，其实都曾是一条条鲜活的生命。关键时刻，霹雳手段，才是菩萨心肠，更是执政能力啊。老太太也真不容易。祝福默克尔，也祝福德国吧！来源：来源：牛弹琴点击进入专题：聚焦新型冠状病毒肺炎疫情责任编辑：武晓东\n"
     ]
    }
   ],
   "source": [
    "url = 'https://news.sina.com.cn/w/2020-12-10/doc-iiznezxs6126218.shtml'\n",
    "headers={'user-agent': 'Mozilla/5.0 (Windows NT 10.0; WOW64) AppleWebKit/537.36 (KHTML, like Gecko) Chrome/74.0.3729.131 Safari/537.36'}\n",
    "html=requests.get(url, headers=headers, timeout=10)\n",
    "content = html.content\n",
    "res_elements = etree.HTML(content)\n",
    "article = res_elements.xpath('//div[@id=\"article\"]')\n",
    "text = etree.tostring(article[0],encoding='utf-8').decode()\n",
    "text = re.sub(\"<!--article_adlist(.*?)article_adlist-->\",\"\",text)\n",
    "text = re.sub('[^\\u4e00-\\u9fa5。，！：、]{7,}', '', text)\n",
    "print(text)"
   ]
  },
  {
   "cell_type": "code",
   "execution_count": 93,
   "metadata": {},
   "outputs": [],
   "source": [
    "# 去掉停用词\n",
    "def remove_stop_words(f):\n",
    "    stop_words = [line.strip() for line in open('stopword.txt',encoding='utf-8').readlines()]\n",
    "    for stop_word in stop_words:\n",
    "        f = f.replace(stop_word, '')\n",
    "    return f"
   ]
  },
  {
   "cell_type": "code",
   "execution_count": 96,
   "metadata": {},
   "outputs": [],
   "source": [
    "# 生成词云\n",
    "def create_word_cloud(f):\n",
    "    print('根据词频，开始生成词云!')\n",
    "    f = remove_stop_words(f)\n",
    "    jieba.add_word('默克尔')\n",
    "    jieba.add_word('牛弹琴')\n",
    "    seg_list = jieba.lcut(f)\n",
    "    #cut_text = ' '.join(seg_list)\n",
    "    #cut_text = word_tokenize(f)\n",
    "    cut_text = \" \".join(seg_list)\n",
    "\n",
    "    wc = WordCloud(\n",
    "        max_words=10,\n",
    "        width=2000,\n",
    "        height=1200,\n",
    "        font_path = 'C:\\\\Users\\\\hsb-admin\\\\Desktop\\\\msyh.ttc'\n",
    "    )\n",
    "    wordcloud = wc.generate(cut_text)\n",
    "    plt.imshow(wordcloud)\n",
    "    plt.axis(\"off\")\n",
    "    plt.show()"
   ]
  },
  {
   "cell_type": "code",
   "execution_count": 97,
   "metadata": {},
   "outputs": [
    {
     "name": "stdout",
     "output_type": "stream",
     "text": [
      "根据词频，开始生成词云!\n"
     ]
    },
    {
     "data": {
      "image/png": "[encoded data removed]",
      "text/plain": [
       "<Figure size 432x288 with 1 Axes>"
      ]
     },
     "metadata": {
      "needs_background": "light"
     },
     "output_type": "display_data"
    }
   ],
   "source": [
    "# 生成词云\n",
    "create_word_cloud(text)"
   ]
  },
  {
   "cell_type": "code",
   "execution_count": 102,
   "metadata": {},
   "outputs": [
    {
     "name": "stdout",
     "output_type": "stream",
     "text": [
      "关键词：\n",
      "德国 0.01730408826040009\n",
      "美国 0.012447639513620006\n",
      "应该 0.010978117637564299\n",
      "演讲 0.010914479493111806\n",
      "视频 0.009752509686742756\n",
      "接触 0.00888041216054074\n",
      "全球 0.007709151862424067\n",
      "德国总理 0.0063843080190749725\n",
      "讲话 0.006284503615328582\n",
      "女性 0.00615492003473604\n",
      "摘要：\n",
      "30 0.028240703910324474 今年非常时期，德国虽然也不容乐观，但肯定比美国英国处理得更好，很多人说，这还是要归功于默克尔，她本身就是一个科学家，她尊重科学\n",
      "6 0.028008232675659425 这应该执政15年来，默克尔言辞最震撼、情绪最激动的一次演讲，说到痛心处，她双手合十，似乎在祈祷，有时几乎声泪俱下，近乎失控\n",
      "10 0.024955388436345913 看新闻，就在默克尔演讲前的24小时，德国死亡人数，突然暴增到590人\n"
     ]
    }
   ],
   "source": [
    "# 输出关键词，设置文本小写，窗口为2\n",
    "tr4w = TextRank4Keyword()\n",
    "tr4w.analyze(text=text, lower=True, window=5)\n",
    "print('关键词：')\n",
    "for item in tr4w.get_keywords(10, word_min_len=2):\n",
    "    print(item.word, item.weight)\n",
    "\n",
    "# 输出重要的句子\n",
    "tr4s = TextRank4Sentence()\n",
    "tr4s.analyze(text=text, lower=True, source = 'all_filters')\n",
    "print('摘要：')\n",
    "# 重要性较高的三个句子\n",
    "for item in tr4s.get_key_sentences(num=3):\n",
    "    # index是语句在文本中位置，weight表示权重\n",
    "    print(item.index, item.weight, item.sentence)"
   ]
  },
  {
   "cell_type": "code",
   "execution_count": 125,
   "metadata": {},
   "outputs": [
    {
     "name": "stdout",
     "output_type": "stream",
     "text": [
      "textRank top 10 keyword: ['德国', '应该', '美国', '演讲', '全球', '视频', '不能', '领导人', '失控', '来源']\n",
      "tfidf top 10 keyword: ['默克尔', '祖父母', '德国', '圣诞节', '视频', '演讲', '失控', '15', '590', '讲话']\n"
     ]
    }
   ],
   "source": [
    "import jieba.analyse as ana\n",
    "'''\n",
    "    可选参数说明: \n",
    "    - topK: 输出的关键词数量，如果是None则全部关键词都输出； \n",
    "    - withWeight: 输出的关键词是否附带textrank计算出来的权重值； \n",
    "    - allowPOS: 该参数为列表，表示仅显示符合该参数设置词性的关键词； \n",
    "    - withFlag: 输出的关键词是否附带词性;\n",
    "'''\n",
    "keyword = ana.textrank(text, topK=10)\n",
    "print('textRank top 10 keyword:',format(keyword))\n",
    "keyword = ana.tfidf(text,topK=10)\n",
    "'''\n",
    "    可选参数说明:\n",
    "    - topK: 输出的关键词数量，如果是None则全部关键词都输出； \n",
    "    - withWeight: 输出的关键词是否附带textrank计算出来的权重值； \n",
    "    - allowPOS: 该参数为列表，表示仅显示符合该参数设置词性的关键词； \n",
    "    - withFlag: 输出的关键词是否附带词性;\n",
    "'''\n",
    "print('tfidf top 10 keyword:',format(keyword))"
   ]
  },
  {
   "cell_type": "markdown",
   "metadata": {},
   "source": [
    "#从wordcloud词频,textRank,tfidf关键词对比来说，还是有些诧异，个人认为怎么感觉textRank统计的并不那么更贴合实际，这篇报道全篇将的的确是默克尔的\n",
    "#发现jieba里面直接有接口可以计算textrank和tfidf然后输出top\n",
    "#计算向量相似度milvus搜索引擎"
   ]
  },
  {
   "cell_type": "code",
   "execution_count": null,
   "metadata": {},
   "outputs": [],
   "source": []
  }
 ],
 "metadata": {
  "kernelspec": {
   "display_name": "Python 3",
   "language": "python",
   "name": "python3"
  },
  "language_info": {
   "codemirror_mode": {
    "name": "ipython",
    "version": 3
   },
   "file_extension": ".py",
   "mimetype": "text/x-python",
   "name": "python",
   "nbconvert_exporter": "python",
   "pygments_lexer": "ipython3",
   "version": "3.7.4"
  }
 },
 "nbformat": 4,
 "nbformat_minor": 2
}
