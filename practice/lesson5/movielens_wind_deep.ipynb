{
 "cells": [
  {
   "cell_type": "code",
   "execution_count": 28,
   "metadata": {},
   "outputs": [],
   "source": [
    "import pandas as pd\n",
    "import numpy as np\n",
    "from sklearn.preprocessing import LabelEncoder\n",
    "from sklearn.preprocessing import OneHotEncoder"
   ]
  },
  {
   "cell_type": "code",
   "execution_count": 145,
   "metadata": {
    "scrolled": true
   },
   "outputs": [
    {
     "name": "stdout",
     "output_type": "stream",
     "text": [
      "<class 'pandas.core.frame.DataFrame'>\n",
      "RangeIndex: 200 entries, 0 to 199\n",
      "Data columns (total 10 columns):\n",
      "user_id       200 non-null int64\n",
      "movie_id      200 non-null int64\n",
      "rating        200 non-null int64\n",
      "timestamp     200 non-null int64\n",
      "title         200 non-null object\n",
      "genres        200 non-null object\n",
      "gender        200 non-null object\n",
      "age           200 non-null int64\n",
      "occupation    200 non-null int64\n",
      "zip           200 non-null object\n",
      "dtypes: int64(6), object(4)\n",
      "memory usage: 15.8+ KB\n"
     ]
    },
    {
     "data": {
      "text/plain": [
       "Index(['user_id', 'movie_id', 'timestamp', 'title', 'genres', 'gender', 'age',\n",
       "       'occupation', 'zip', 'Action', 'Adventure', 'Animation', 'Childrens',\n",
       "       'Comedy', 'Crime', 'Drama', 'Fantasy', 'Film-Noir', 'Horror', 'Musical',\n",
       "       'Mystery', 'Romance', 'Sci-Fi', 'Thriller', 'War', 'Western'],\n",
       "      dtype='object')"
      ]
     },
     "execution_count": 145,
     "metadata": {},
     "output_type": "execute_result"
    }
   ],
   "source": [
    "#加载数据\n",
    "data = pd.read_csv('movielens_sample.txt')\n",
    "data.head()\n",
    "data.info()\n",
    "target = data.pop('rating')\n",
    "data['ColumnA'] = data['genres'].str.split('|',expand = True).apply(\n",
    "    lambda x:( ','.join(x.dropna().astype(str))).replace('\\'',''),\n",
    "    axis=1\n",
    ")\n",
    "data = data.drop('ColumnA', 1).join(data['ColumnA'].str.get_dummies(','))\n",
    "for feature in data.columns:\n",
    "    lbe = LabelEncoder()\n",
    "    data[feature] = lbe.fit_transform(data[feature])\n",
    "data.columns"
   ]
  },
  {
   "cell_type": "code",
   "execution_count": 146,
   "metadata": {
    "scrolled": true
   },
   "outputs": [
    {
     "name": "stdout",
     "output_type": "stream",
     "text": [
      "GBDT回归MSE: 1.7191358737221454\n",
      "各个特征的重要程度， [1.40249052e-01 1.82361048e-01 1.23513465e-01 1.77129223e-01\n",
      " 5.99036409e-02 4.91728763e-03 2.49321225e-02 6.81328135e-02\n",
      " 1.27408839e-01 1.97886713e-03 9.20896561e-03 0.00000000e+00\n",
      " 2.97011843e-03 1.40008416e-03 3.61509755e-03 2.60173875e-02\n",
      " 8.96325833e-04 0.00000000e+00 7.47552708e-04 4.78258900e-05\n",
      " 2.33198650e-03 7.80684160e-03 1.78824813e-03 3.06609649e-02\n",
      " 9.72425418e-04 1.00981579e-03]\n"
     ]
    },
    {
     "data": {
      "image/png": "[encoded data removed]",
      "text/plain": [
       "<Figure size 432x288 with 1 Axes>"
      ]
     },
     "metadata": {
      "needs_background": "light"
     },
     "output_type": "display_data"
    }
   ],
   "source": [
    "#用GBDT看下feature的重要性\n",
    "from sklearn.ensemble import GradientBoostingRegressor\n",
    "from sklearn.model_selection import train_test_split\n",
    "from sklearn.metrics import mean_squared_error\n",
    "import matplotlib.pyplot as plt\n",
    "X_train, X_test, y_train, y_test =  train_test_split(data, target, test_size=0.2)\n",
    "clf = GradientBoostingRegressor(n_estimators=1000, learning_rate=0.01, max_depth=4, loss ='ls')\n",
    "clf.fit(X_train, y_train)\n",
    "print('GBDT回归MSE:', mean_squared_error(y_test, clf.predict(X_test)))\n",
    "print('各个特征的重要程度，',clf.feature_importances_)\n",
    "plt.plot(np.arange(1000),clf.train_score_, 'b-')\n",
    "plt.show()"
   ]
  },
  {
   "cell_type": "code",
   "execution_count": 147,
   "metadata": {},
   "outputs": [
    {
     "data": {
      "text/plain": [
       "[('movie_id', 0.18236104821768598),\n",
       " ('title', 0.177129223471951),\n",
       " ('user_id', 0.14024905246736694),\n",
       " ('zip', 0.1274088394677003),\n",
       " ('timestamp', 0.12351346474604943),\n",
       " ('occupation', 0.06813281349135877),\n",
       " ('genres', 0.05990364089298365),\n",
       " ('Thriller', 0.030660964903247906),\n",
       " ('Drama', 0.02601738745929859),\n",
       " ('age', 0.024932122507953812),\n",
       " ('Adventure', 0.00920896561041426),\n",
       " ('Romance', 0.007806841603287006),\n",
       " ('gender', 0.0049172876313263005),\n",
       " ('Crime', 0.0036150975491406577),\n",
       " ('Childrens', 0.0029701184295328723),\n",
       " ('Mystery', 0.0023319864962882573),\n",
       " ('Action', 0.0019788671272241666),\n",
       " ('Sci-Fi', 0.0017882481265064898),\n",
       " ('Comedy', 0.0014000841589009204),\n",
       " ('Western', 0.0010098157918269279),\n",
       " ('War', 0.000972425418448111),\n",
       " ('Fantasy', 0.0008963258334366681),\n",
       " ('Horror', 0.0007475527081187451),\n",
       " ('Musical', 4.782588995232738e-05),\n",
       " ('Animation', 0.0),\n",
       " ('Film-Noir', 0.0)]"
      ]
     },
     "execution_count": 147,
     "metadata": {},
     "output_type": "execute_result"
    }
   ],
   "source": [
    "feature_score = dict(zip(data.columns, clf.feature_importances_))\n",
    "feature_score = sorted(feature_score.items(), key=lambda x :x[1], reverse=True)\n",
    "feature_score"
   ]
  },
  {
   "cell_type": "markdown",
   "metadata": {},
   "source": [
    "# 疑问？\n",
    "# 1.不知道这种方式获取特征重要程度是否有效\n",
    "# 2.title的重要程度也很高，是否和movie_id重复\n",
    "# 3.这边先取大于0.01的特征进行训练，但实践发现选所有的特征，效果更好些，所以还是改为0\n",
    "   "
   ]
  },
  {
   "cell_type": "code",
   "execution_count": 148,
   "metadata": {},
   "outputs": [
    {
     "data": {
      "text/plain": [
       "Index(['movie_id', 'title', 'user_id', 'zip', 'timestamp', 'occupation',\n",
       "       'genres', 'Thriller', 'Drama', 'age', 'Adventure', 'Romance', 'gender',\n",
       "       'Crime', 'Childrens', 'Mystery', 'Action', 'Sci-Fi', 'Comedy',\n",
       "       'Western', 'War', 'Fantasy', 'Horror', 'Musical'],\n",
       "      dtype='object')"
      ]
     },
     "execution_count": 148,
     "metadata": {},
     "output_type": "execute_result"
    }
   ],
   "source": [
    "new_feature = [ i[0] for i in feature_score if i[1] >0]\n",
    "data = data[new_feature]\n",
    "data.columns"
   ]
  },
  {
   "cell_type": "markdown",
   "metadata": {},
   "source": [
    "# Wild & Deep\n",
    "# 疑问？发现epochs在35之后增大，是不是说直接取35就行？"
   ]
  },
  {
   "cell_type": "code",
   "execution_count": 160,
   "metadata": {},
   "outputs": [
    {
     "name": "stdout",
     "output_type": "stream",
     "text": [
      "Train on 128 samples, validate on 32 samples\n",
      "Epoch 1/100\n"
     ]
    },
    {
     "name": "stderr",
     "output_type": "stream",
     "text": [
      "d:\\ProgramData\\Anaconda3\\lib\\site-packages\\tensorflow_core\\python\\framework\\indexed_slices.py:424: UserWarning: Converting sparse IndexedSlices to a dense Tensor of unknown shape. This may consume a large amount of memory.\n",
      "  \"Converting sparse IndexedSlices to a dense Tensor of unknown shape. \"\n",
      "d:\\ProgramData\\Anaconda3\\lib\\site-packages\\tensorflow_core\\python\\framework\\indexed_slices.py:424: UserWarning: Converting sparse IndexedSlices to a dense Tensor of unknown shape. This may consume a large amount of memory.\n",
      "  \"Converting sparse IndexedSlices to a dense Tensor of unknown shape. \"\n"
     ]
    },
    {
     "name": "stdout",
     "output_type": "stream",
     "text": [
      "128/128 [==============================] - 10s 75ms/sample - loss: 14.1691 - mse: 14.1691 - val_loss: 14.0023 - val_mse: 14.0023\n",
      "Epoch 2/100\n",
      "128/128 [==============================] - 0s 1ms/sample - loss: 13.9166 - mse: 13.9166 - val_loss: 13.7716 - val_mse: 13.7716\n",
      "Epoch 3/100\n",
      "128/128 [==============================] - 0s 2ms/sample - loss: 13.6444 - mse: 13.6444 - val_loss: 13.5286 - val_mse: 13.5286\n",
      "Epoch 4/100\n",
      "128/128 [==============================] - 0s 997us/sample - loss: 13.3596 - mse: 13.3596 - val_loss: 13.2753 - val_mse: 13.2753\n",
      "Epoch 5/100\n",
      "128/128 [==============================] - 0s 1ms/sample - loss: 13.0639 - mse: 13.0639 - val_loss: 13.0111 - val_mse: 13.0111\n",
      "Epoch 6/100\n",
      "128/128 [==============================] - 0s 1ms/sample - loss: 12.7561 - mse: 12.7561 - val_loss: 12.7346 - val_mse: 12.7346\n",
      "Epoch 7/100\n",
      "128/128 [==============================] - 0s 1ms/sample - loss: 12.4347 - mse: 12.4347 - val_loss: 12.4446 - val_mse: 12.4446\n",
      "Epoch 8/100\n",
      "128/128 [==============================] - 0s 1ms/sample - loss: 12.0983 - mse: 12.0983 - val_loss: 12.1396 - val_mse: 12.1396\n",
      "Epoch 9/100\n",
      "128/128 [==============================] - 0s 1ms/sample - loss: 11.7455 - mse: 11.7455 - val_loss: 11.8177 - val_mse: 11.8177\n",
      "Epoch 10/100\n",
      "128/128 [==============================] - 0s 1ms/sample - loss: 11.3747 - mse: 11.3747 - val_loss: 11.4766 - val_mse: 11.4766\n",
      "Epoch 11/100\n",
      "128/128 [==============================] - 0s 1ms/sample - loss: 10.9843 - mse: 10.9843 - val_loss: 11.1154 - val_mse: 11.1154\n",
      "Epoch 12/100\n",
      "128/128 [==============================] - 0s 1ms/sample - loss: 10.5727 - mse: 10.5727 - val_loss: 10.7333 - val_mse: 10.7333\n",
      "Epoch 13/100\n",
      "128/128 [==============================] - 0s 1ms/sample - loss: 10.1386 - mse: 10.1386 - val_loss: 10.3292 - val_mse: 10.3292\n",
      "Epoch 14/100\n",
      "128/128 [==============================] - 0s 1ms/sample - loss: 9.6811 - mse: 9.6811 - val_loss: 9.9022 - val_mse: 9.9022\n",
      "Epoch 15/100\n",
      "128/128 [==============================] - 0s 1ms/sample - loss: 9.1993 - mse: 9.1992 - val_loss: 9.4516 - val_mse: 9.4516\n",
      "Epoch 16/100\n",
      "128/128 [==============================] - 0s 1ms/sample - loss: 8.6925 - mse: 8.6925 - val_loss: 8.9768 - val_mse: 8.9768\n",
      "Epoch 17/100\n",
      "128/128 [==============================] - 0s 1ms/sample - loss: 8.1609 - mse: 8.1608 - val_loss: 8.4775 - val_mse: 8.4775\n",
      "Epoch 18/100\n",
      "128/128 [==============================] - 0s 1ms/sample - loss: 7.6048 - mse: 7.6048 - val_loss: 7.9545 - val_mse: 7.9545\n",
      "Epoch 19/100\n",
      "128/128 [==============================] - 0s 1ms/sample - loss: 7.0261 - mse: 7.0261 - val_loss: 7.4093 - val_mse: 7.4093\n",
      "Epoch 20/100\n",
      "128/128 [==============================] - 0s 1ms/sample - loss: 6.4271 - mse: 6.4270 - val_loss: 6.8441 - val_mse: 6.8441\n",
      "Epoch 21/100\n",
      "128/128 [==============================] - 0s 1ms/sample - loss: 5.8117 - mse: 5.8117 - val_loss: 6.2617 - val_mse: 6.2617\n",
      "Epoch 22/100\n",
      "128/128 [==============================] - 0s 1ms/sample - loss: 5.1854 - mse: 5.1854 - val_loss: 5.6671 - val_mse: 5.6671\n",
      "Epoch 23/100\n",
      "128/128 [==============================] - 0s 1ms/sample - loss: 4.5556 - mse: 4.5556 - val_loss: 5.0665 - val_mse: 5.0665\n",
      "Epoch 24/100\n",
      "128/128 [==============================] - 0s 1ms/sample - loss: 3.9315 - mse: 3.9315 - val_loss: 4.4682 - val_mse: 4.4682\n",
      "Epoch 25/100\n",
      "128/128 [==============================] - 0s 1ms/sample - loss: 3.3252 - mse: 3.3251 - val_loss: 3.8826 - val_mse: 3.8825\n",
      "Epoch 26/100\n",
      "128/128 [==============================] - 0s 1ms/sample - loss: 2.7510 - mse: 2.7509 - val_loss: 3.3219 - val_mse: 3.3218\n",
      "Epoch 27/100\n",
      "128/128 [==============================] - 0s 1ms/sample - loss: 2.2261 - mse: 2.2260 - val_loss: 2.8012 - val_mse: 2.8011\n",
      "Epoch 28/100\n",
      "128/128 [==============================] - 0s 1ms/sample - loss: 1.7697 - mse: 1.7697 - val_loss: 2.3372 - val_mse: 2.3372\n",
      "Epoch 29/100\n",
      "128/128 [==============================] - 0s 1ms/sample - loss: 1.4024 - mse: 1.4024 - val_loss: 1.9471 - val_mse: 1.9471\n",
      "Epoch 30/100\n",
      "128/128 [==============================] - 0s 1ms/sample - loss: 1.1434 - mse: 1.1434 - val_loss: 1.6462 - val_mse: 1.6462\n",
      "Epoch 31/100\n",
      "128/128 [==============================] - 0s 1ms/sample - loss: 1.0070 - mse: 1.0069 - val_loss: 1.4440 - val_mse: 1.4439\n",
      "Epoch 32/100\n",
      "128/128 [==============================] - 0s 1ms/sample - loss: 0.9950 - mse: 0.9949 - val_loss: 1.3378 - val_mse: 1.3378\n",
      "Epoch 33/100\n",
      "128/128 [==============================] - 0s 1ms/sample - loss: 1.0892 - mse: 1.0892 - val_loss: 1.3093 - val_mse: 1.3093\n",
      "Epoch 34/100\n",
      "128/128 [==============================] - 0s 1ms/sample - loss: 1.2461 - mse: 1.2461 - val_loss: 1.3261 - val_mse: 1.3260\n",
      "Epoch 35/100\n",
      "128/128 [==============================] - 0s 1ms/sample - loss: 1.4059 - mse: 1.4058 - val_loss: 1.3537 - val_mse: 1.3537\n",
      "Epoch 36/100\n",
      "128/128 [==============================] - 0s 1ms/sample - loss: 1.5129 - mse: 1.5128 - val_loss: 1.3689 - val_mse: 1.3688\n",
      "Epoch 37/100\n",
      "128/128 [==============================] - 0s 1ms/sample - loss: 1.5360 - mse: 1.5360 - val_loss: 1.3648 - val_mse: 1.3648\n",
      "Epoch 38/100\n",
      "128/128 [==============================] - 0s 1ms/sample - loss: 1.4734 - mse: 1.4734 - val_loss: 1.3478 - val_mse: 1.3477\n",
      "Epoch 39/100\n",
      "128/128 [==============================] - 0s 1ms/sample - loss: 1.3447 - mse: 1.3446 - val_loss: 1.3303 - val_mse: 1.3303\n",
      "Epoch 40/100\n",
      "128/128 [==============================] - 0s 1ms/sample - loss: 1.1791 - mse: 1.1790 - val_loss: 1.3253 - val_mse: 1.3252\n",
      "Epoch 41/100\n",
      "128/128 [==============================] - 0s 1ms/sample - loss: 1.0060 - mse: 1.0060 - val_loss: 1.3418 - val_mse: 1.3418\n",
      "Epoch 42/100\n",
      "128/128 [==============================] - 0s 1ms/sample - loss: 0.8490 - mse: 0.8490 - val_loss: 1.3841 - val_mse: 1.3841\n",
      "Epoch 43/100\n",
      "128/128 [==============================] - 0s 1ms/sample - loss: 0.7225 - mse: 0.7225 - val_loss: 1.4511 - val_mse: 1.4511\n",
      "Epoch 44/100\n",
      "128/128 [==============================] - 0s 1ms/sample - loss: 0.6324 - mse: 0.6324 - val_loss: 1.5378 - val_mse: 1.5378\n",
      "Epoch 45/100\n",
      "128/128 [==============================] - 0s 1ms/sample - loss: 0.5770 - mse: 0.5770 - val_loss: 1.6369 - val_mse: 1.6369\n",
      "Epoch 46/100\n",
      "128/128 [==============================] - 0s 1ms/sample - loss: 0.5499 - mse: 0.5499 - val_loss: 1.7407 - val_mse: 1.7406\n",
      "Epoch 47/100\n",
      "128/128 [==============================] - 0s 1ms/sample - loss: 0.5420 - mse: 0.5420 - val_loss: 1.8405 - val_mse: 1.8405\n",
      "Epoch 48/100\n",
      "128/128 [==============================] - 0s 1ms/sample - loss: 0.5439 - mse: 0.5438 - val_loss: 1.9283 - val_mse: 1.9283\n",
      "Epoch 49/100\n",
      "128/128 [==============================] - 0s 1ms/sample - loss: 0.5486 - mse: 0.5486 - val_loss: 1.9945 - val_mse: 1.9944\n",
      "Epoch 50/100\n",
      "128/128 [==============================] - 0s 1ms/sample - loss: 0.5465 - mse: 0.5465 - val_loss: 2.0376 - val_mse: 2.0376\n",
      "Epoch 51/100\n",
      "128/128 [==============================] - 0s 1ms/sample - loss: 0.5344 - mse: 0.5343 - val_loss: 2.0587 - val_mse: 2.0586\n",
      "Epoch 52/100\n",
      "128/128 [==============================] - 0s 1ms/sample - loss: 0.5116 - mse: 0.5116 - val_loss: 2.0591 - val_mse: 2.0591\n",
      "Epoch 53/100\n",
      "128/128 [==============================] - 0s 1ms/sample - loss: 0.4781 - mse: 0.4781 - val_loss: 2.0418 - val_mse: 2.0418\n",
      "Epoch 54/100\n",
      "128/128 [==============================] - 0s 1ms/sample - loss: 0.4358 - mse: 0.4357 - val_loss: 2.0101 - val_mse: 2.0101\n",
      "Epoch 55/100\n",
      "128/128 [==============================] - 0s 1ms/sample - loss: 0.3874 - mse: 0.3874 - val_loss: 1.9682 - val_mse: 1.9681\n",
      "Epoch 56/100\n",
      "128/128 [==============================] - 0s 1ms/sample - loss: 0.3368 - mse: 0.3368 - val_loss: 1.9202 - val_mse: 1.9202\n",
      "Epoch 57/100\n",
      "128/128 [==============================] - 0s 1ms/sample - loss: 0.2874 - mse: 0.2874 - val_loss: 1.8707 - val_mse: 1.8706\n",
      "Epoch 58/100\n",
      "128/128 [==============================] - 0s 1ms/sample - loss: 0.2419 - mse: 0.2419 - val_loss: 1.8225 - val_mse: 1.8224\n",
      "Epoch 59/100\n",
      "128/128 [==============================] - 0s 1ms/sample - loss: 0.2023 - mse: 0.2023 - val_loss: 1.7782 - val_mse: 1.7781\n",
      "Epoch 60/100\n",
      "128/128 [==============================] - 0s 1ms/sample - loss: 0.1697 - mse: 0.1697 - val_loss: 1.7397 - val_mse: 1.7397\n"
     ]
    },
    {
     "name": "stdout",
     "output_type": "stream",
     "text": [
      "Epoch 61/100\n",
      "128/128 [==============================] - 0s 1ms/sample - loss: 0.1446 - mse: 0.1445 - val_loss: 1.7090 - val_mse: 1.7089\n",
      "Epoch 62/100\n",
      "128/128 [==============================] - 0s 1ms/sample - loss: 0.1259 - mse: 0.1259 - val_loss: 1.6878 - val_mse: 1.6878\n",
      "Epoch 63/100\n",
      "128/128 [==============================] - 0s 1ms/sample - loss: 0.1122 - mse: 0.1121 - val_loss: 1.6782 - val_mse: 1.6781\n",
      "Epoch 64/100\n",
      "128/128 [==============================] - 0s 1ms/sample - loss: 0.1010 - mse: 0.1010 - val_loss: 1.6797 - val_mse: 1.6797\n",
      "Epoch 65/100\n",
      "128/128 [==============================] - 0s 1ms/sample - loss: 0.0901 - mse: 0.0900 - val_loss: 1.6926 - val_mse: 1.6926\n",
      "Epoch 66/100\n",
      "128/128 [==============================] - 0s 1ms/sample - loss: 0.0780 - mse: 0.0780 - val_loss: 1.7166 - val_mse: 1.7165\n",
      "Epoch 67/100\n",
      "128/128 [==============================] - 0s 1ms/sample - loss: 0.0646 - mse: 0.0646 - val_loss: 1.7511 - val_mse: 1.7510\n",
      "Epoch 68/100\n",
      "128/128 [==============================] - 0s 1ms/sample - loss: 0.0505 - mse: 0.0505 - val_loss: 1.7971 - val_mse: 1.7971\n",
      "Epoch 69/100\n",
      "128/128 [==============================] - 0s 1ms/sample - loss: 0.0369 - mse: 0.0369 - val_loss: 1.8521 - val_mse: 1.8520\n",
      "Epoch 70/100\n",
      "128/128 [==============================] - 0s 1ms/sample - loss: 0.0254 - mse: 0.0253 - val_loss: 1.9144 - val_mse: 1.9144\n",
      "Epoch 71/100\n",
      "128/128 [==============================] - 0s 1ms/sample - loss: 0.0172 - mse: 0.0172 - val_loss: 1.9817 - val_mse: 1.9816\n",
      "Epoch 72/100\n",
      "128/128 [==============================] - 0s 1ms/sample - loss: 0.0133 - mse: 0.0132 - val_loss: 2.0483 - val_mse: 2.0483\n",
      "Epoch 73/100\n",
      "128/128 [==============================] - 0s 1ms/sample - loss: 0.0133 - mse: 0.0132 - val_loss: 2.1049 - val_mse: 2.1049\n",
      "Epoch 74/100\n",
      "128/128 [==============================] - 0s 1ms/sample - loss: 0.0159 - mse: 0.0159 - val_loss: 2.1440 - val_mse: 2.1440\n",
      "Epoch 75/100\n",
      "128/128 [==============================] - 0s 1ms/sample - loss: 0.0188 - mse: 0.0188 - val_loss: 2.1632 - val_mse: 2.1631\n",
      "Epoch 76/100\n",
      "128/128 [==============================] - 0s 1ms/sample - loss: 0.0202 - mse: 0.0202 - val_loss: 2.1634 - val_mse: 2.1634\n",
      "Epoch 77/100\n",
      "128/128 [==============================] - 0s 1ms/sample - loss: 0.0198 - mse: 0.0198 - val_loss: 2.1490 - val_mse: 2.1490\n",
      "Epoch 78/100\n",
      "128/128 [==============================] - 0s 1ms/sample - loss: 0.0180 - mse: 0.0179 - val_loss: 2.1255 - val_mse: 2.1254\n",
      "Epoch 79/100\n",
      "128/128 [==============================] - 0s 1ms/sample - loss: 0.0157 - mse: 0.0157 - val_loss: 2.0961 - val_mse: 2.0961\n",
      "Epoch 80/100\n",
      "128/128 [==============================] - 0s 1ms/sample - loss: 0.0136 - mse: 0.0136 - val_loss: 2.0644 - val_mse: 2.0644\n",
      "Epoch 81/100\n",
      "128/128 [==============================] - 0s 1ms/sample - loss: 0.0121 - mse: 0.0120 - val_loss: 2.0335 - val_mse: 2.0334\n",
      "Epoch 82/100\n",
      "128/128 [==============================] - 0s 1ms/sample - loss: 0.0112 - mse: 0.0111 - val_loss: 2.0061 - val_mse: 2.0060\n",
      "Epoch 83/100\n",
      "128/128 [==============================] - 0s 1ms/sample - loss: 0.0106 - mse: 0.0105 - val_loss: 1.9833 - val_mse: 1.9833\n",
      "Epoch 84/100\n",
      "128/128 [==============================] - 0s 1ms/sample - loss: 0.0101 - mse: 0.0100 - val_loss: 1.9660 - val_mse: 1.9660\n",
      "Epoch 85/100\n",
      "128/128 [==============================] - 0s 1ms/sample - loss: 0.0093 - mse: 0.0093 - val_loss: 1.9545 - val_mse: 1.9544\n",
      "Epoch 86/100\n",
      "128/128 [==============================] - 0s 1ms/sample - loss: 0.0082 - mse: 0.0081 - val_loss: 1.9487 - val_mse: 1.9486\n",
      "Epoch 87/100\n",
      "128/128 [==============================] - 0s 1ms/sample - loss: 0.0067 - mse: 0.0066 - val_loss: 1.9482 - val_mse: 1.9482\n",
      "Epoch 88/100\n",
      "128/128 [==============================] - 0s 1ms/sample - loss: 0.0050 - mse: 0.0050 - val_loss: 1.9514 - val_mse: 1.9514\n",
      "Epoch 89/100\n",
      "128/128 [==============================] - 0s 1ms/sample - loss: 0.0035 - mse: 0.0034 - val_loss: 1.9569 - val_mse: 1.9568\n",
      "Epoch 90/100\n",
      "128/128 [==============================] - 0s 1ms/sample - loss: 0.0022 - mse: 0.0022 - val_loss: 1.9633 - val_mse: 1.9632\n",
      "Epoch 91/100\n",
      "128/128 [==============================] - 0s 1ms/sample - loss: 0.0014 - mse: 0.0014 - val_loss: 1.9694 - val_mse: 1.9693\n",
      "Epoch 92/100\n",
      "128/128 [==============================] - 0s 1ms/sample - loss: 0.0011 - mse: 0.0010 - val_loss: 1.9739 - val_mse: 1.9739\n",
      "Epoch 93/100\n",
      "128/128 [==============================] - 0s 1ms/sample - loss: 0.0011 - mse: 9.9402e-04 - val_loss: 1.9761 - val_mse: 1.9761\n",
      "Epoch 94/100\n",
      "128/128 [==============================] - 0s 1ms/sample - loss: 0.0012 - mse: 0.0012 - val_loss: 1.9753 - val_mse: 1.9752\n",
      "Epoch 95/100\n",
      "128/128 [==============================] - 0s 1ms/sample - loss: 0.0014 - mse: 0.0013 - val_loss: 1.9714 - val_mse: 1.9713\n",
      "Epoch 96/100\n",
      "128/128 [==============================] - 0s 1ms/sample - loss: 0.0015 - mse: 0.0014 - val_loss: 1.9647 - val_mse: 1.9646\n",
      "Epoch 97/100\n",
      "128/128 [==============================] - 0s 1ms/sample - loss: 0.0015 - mse: 0.0014 - val_loss: 1.9558 - val_mse: 1.9558\n",
      "Epoch 98/100\n",
      "128/128 [==============================] - 0s 1ms/sample - loss: 0.0014 - mse: 0.0013 - val_loss: 1.9454 - val_mse: 1.9454\n",
      "Epoch 99/100\n",
      "128/128 [==============================] - 0s 1ms/sample - loss: 0.0012 - mse: 0.0012 - val_loss: 1.9345 - val_mse: 1.9344\n",
      "Epoch 100/100\n",
      "128/128 [==============================] - 0s 1ms/sample - loss: 0.0011 - mse: 0.0010 - val_loss: 1.9239 - val_mse: 1.9238\n",
      "test RMSE 1.482700239428051\n"
     ]
    }
   ],
   "source": [
    "from deepctr.models import WDL\n",
    "from deepctr.feature_column import SparseFeat, get_feature_names\n",
    "fixlen_feature_columns = [SparseFeat(feature, data[feature].nunique()) for feature in data.columns]\n",
    "linear_feature_columns = fixlen_feature_columns\n",
    "dnn_feature_columns = fixlen_feature_columns\n",
    "feature_names = get_feature_names(linear_feature_columns + dnn_feature_columns)\n",
    "\n",
    "all_data = data.copy()\n",
    "all_data['rating'] = target.values\n",
    "train, test = train_test_split(all_data, test_size=0.2)\n",
    "train_model_input = {name:train[name].values for name in feature_names}\n",
    "test_model_input = {name:test[name].values for name in feature_names}\n",
    "\n",
    "model = WDL(linear_feature_columns, dnn_feature_columns, task='regression')\n",
    "model.compile('adam', 'mse', metrics=['mse'],)\n",
    "history = model.fit(train_model_input, train['rating'].values, batch_size=256, epochs=100, verbose=True, validation_split=0.2, )\n",
    "pred_ans = model.predict(test_model_input, batch_size=256)\n",
    "mse = round(mean_squared_error(test['rating'].values, pred_ans), 4)\n",
    "rmse = mse ** 0.5\n",
    "print('test RMSE', rmse)"
   ]
  },
  {
   "cell_type": "code",
   "execution_count": 159,
   "metadata": {},
   "outputs": [
    {
     "data": {
      "text/plain": [
       "array([[2.6183941],\n",
       "       [2.6633735],\n",
       "       [3.5405693],\n",
       "       [3.2587543],\n",
       "       [2.5279217],\n",
       "       [2.7047548],\n",
       "       [3.1182153],\n",
       "       [2.653059 ],\n",
       "       [2.7105412],\n",
       "       [2.4662442],\n",
       "       [2.6249192],\n",
       "       [2.545899 ],\n",
       "       [2.4305682],\n",
       "       [3.1654277],\n",
       "       [2.558536 ],\n",
       "       [2.512289 ],\n",
       "       [2.6722014],\n",
       "       [2.4074092],\n",
       "       [2.487164 ],\n",
       "       [2.6013496],\n",
       "       [2.6618092],\n",
       "       [2.7151165],\n",
       "       [2.6487825],\n",
       "       [1.8921854],\n",
       "       [2.5550926],\n",
       "       [3.5614574],\n",
       "       [2.5128865],\n",
       "       [2.9435408],\n",
       "       [2.7233155],\n",
       "       [2.7166457],\n",
       "       [2.7701504],\n",
       "       [2.7552369],\n",
       "       [2.7151165],\n",
       "       [2.450087 ],\n",
       "       [2.685621 ],\n",
       "       [2.6323783],\n",
       "       [2.7027802],\n",
       "       [2.7546558],\n",
       "       [2.3742847],\n",
       "       [2.8740137]], dtype=float32)"
      ]
     },
     "execution_count": 159,
     "metadata": {},
     "output_type": "execute_result"
    }
   ],
   "source": [
    "pred_ans"
   ]
  },
  {
   "cell_type": "code",
   "execution_count": 152,
   "metadata": {},
   "outputs": [
    {
     "data": {
      "text/plain": [
       "array([3, 4, 5, 3, 3, 4, 5, 1, 3, 2, 2, 3, 5, 2, 3, 3, 5, 3, 5, 5, 4, 3,\n",
       "       2, 2, 3, 5, 5, 4, 3, 4, 4, 2, 3, 5, 3, 5, 4, 2, 4, 5], dtype=int64)"
      ]
     },
     "execution_count": 152,
     "metadata": {},
     "output_type": "execute_result"
    }
   ],
   "source": [
    "test['rating'].values"
   ]
  },
  {
   "cell_type": "code",
   "execution_count": null,
   "metadata": {},
   "outputs": [],
   "source": []
  }
 ],
 "metadata": {
  "kernelspec": {
   "display_name": "Python 3",
   "language": "python",
   "name": "python3"
  },
  "language_info": {
   "codemirror_mode": {
    "name": "ipython",
    "version": 3
   },
   "file_extension": ".py",
   "mimetype": "text/x-python",
   "name": "python",
   "nbconvert_exporter": "python",
   "pygments_lexer": "ipython3",
   "version": "3.7.4"
  }
 },
 "nbformat": 4,
 "nbformat_minor": 2
}
