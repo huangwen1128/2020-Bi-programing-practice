{
 "cells": [
  {
   "cell_type": "code",
   "execution_count": 28,
   "metadata": {},
   "outputs": [],
   "source": [
    "import pandas as pd\n",
    "import numpy as np\n",
    "from sklearn.preprocessing import LabelEncoder\n",
    "from sklearn.preprocessing import OneHotEncoder"
   ]
  },
  {
   "cell_type": "code",
   "execution_count": 145,
   "metadata": {
    "scrolled": true
   },
   "outputs": [
    {
     "name": "stdout",
     "output_type": "stream",
     "text": [
      "<class 'pandas.core.frame.DataFrame'>\n",
      "RangeIndex: 200 entries, 0 to 199\n",
      "Data columns (total 10 columns):\n",
      "user_id       200 non-null int64\n",
      "movie_id      200 non-null int64\n",
      "rating        200 non-null int64\n",
      "timestamp     200 non-null int64\n",
      "title         200 non-null object\n",
      "genres        200 non-null object\n",
      "gender        200 non-null object\n",
      "age           200 non-null int64\n",
      "occupation    200 non-null int64\n",
      "zip           200 non-null object\n",
      "dtypes: int64(6), object(4)\n",
      "memory usage: 15.8+ KB\n"
     ]
    },
    {
     "data": {
      "text/plain": [
       "Index(['user_id', 'movie_id', 'timestamp', 'title', 'genres', 'gender', 'age',\n",
       "       'occupation', 'zip', 'Action', 'Adventure', 'Animation', 'Childrens',\n",
       "       'Comedy', 'Crime', 'Drama', 'Fantasy', 'Film-Noir', 'Horror', 'Musical',\n",
       "       'Mystery', 'Romance', 'Sci-Fi', 'Thriller', 'War', 'Western'],\n",
       "      dtype='object')"
      ]
     },
     "execution_count": 145,
     "metadata": {},
     "output_type": "execute_result"
    }
   ],
   "source": [
    "#加载数据\n",
    "data = pd.read_csv('movielens_sample.txt')\n",
    "data.head()\n",
    "data.info()\n",
    "target = data.pop('rating')\n",
    "data['ColumnA'] = data['genres'].str.split('|',expand = True).apply(\n",
    "    lambda x:( ','.join(x.dropna().astype(str))).replace('\\'',''),\n",
    "    axis=1\n",
    ")\n",
    "data = data.drop('ColumnA', 1).join(data['ColumnA'].str.get_dummies(','))\n",
    "for feature in data.columns:\n",
    "    lbe = LabelEncoder()\n",
    "    data[feature] = lbe.fit_transform(data[feature])\n",
    "data.columns"
   ]
  },
  {
   "cell_type": "code",
   "execution_count": 146,
   "metadata": {
    "scrolled": true
   },
   "outputs": [
    {
     "name": "stdout",
     "output_type": "stream",
     "text": [
      "GBDT回归MSE: 1.7191358737221454\n",
      "各个特征的重要程度， [1.40249052e-01 1.82361048e-01 1.23513465e-01 1.77129223e-01\n",
      " 5.99036409e-02 4.91728763e-03 2.49321225e-02 6.81328135e-02\n",
      " 1.27408839e-01 1.97886713e-03 9.20896561e-03 0.00000000e+00\n",
      " 2.97011843e-03 1.40008416e-03 3.61509755e-03 2.60173875e-02\n",
      " 8.96325833e-04 0.00000000e+00 7.47552708e-04 4.78258900e-05\n",
      " 2.33198650e-03 7.80684160e-03 1.78824813e-03 3.06609649e-02\n",
      " 9.72425418e-04 1.00981579e-03]\n"
     ]
    },
    {
     "data": {
      "image/png": "[encoded data removed]",
      "text/plain": [
       "<Figure size 432x288 with 1 Axes>"
      ]
     },
     "metadata": {
      "needs_background": "light"
     },
     "output_type": "display_data"
    }
   ],
   "source": [
    "#用GBDT看下feature的重要性\n",
    "from sklearn.ensemble import GradientBoostingRegressor\n",
    "from sklearn.model_selection import train_test_split\n",
    "from sklearn.metrics import mean_squared_error\n",
    "import matplotlib.pyplot as plt\n",
    "X_train, X_test, y_train, y_test =  train_test_split(data, target, test_size=0.2)\n",
    "clf = GradientBoostingRegressor(n_estimators=1000, learning_rate=0.01, max_depth=4, loss ='ls')\n",
    "clf.fit(X_train, y_train)\n",
    "print('GBDT回归MSE:', mean_squared_error(y_test, clf.predict(X_test)))\n",
    "print('各个特征的重要程度，',clf.feature_importances_)\n",
    "plt.plot(np.arange(1000),clf.train_score_, 'b-')\n",
    "plt.show()"
   ]
  },
  {
   "cell_type": "code",
   "execution_count": 147,
   "metadata": {},
   "outputs": [
    {
     "data": {
      "text/plain": [
       "[('movie_id', 0.18236104821768598),\n",
       " ('title', 0.177129223471951),\n",
       " ('user_id', 0.14024905246736694),\n",
       " ('zip', 0.1274088394677003),\n",
       " ('timestamp', 0.12351346474604943),\n",
       " ('occupation', 0.06813281349135877),\n",
       " ('genres', 0.05990364089298365),\n",
       " ('Thriller', 0.030660964903247906),\n",
       " ('Drama', 0.02601738745929859),\n",
       " ('age', 0.024932122507953812),\n",
       " ('Adventure', 0.00920896561041426),\n",
       " ('Romance', 0.007806841603287006),\n",
       " ('gender', 0.0049172876313263005),\n",
       " ('Crime', 0.0036150975491406577),\n",
       " ('Childrens', 0.0029701184295328723),\n",
       " ('Mystery', 0.0023319864962882573),\n",
       " ('Action', 0.0019788671272241666),\n",
       " ('Sci-Fi', 0.0017882481265064898),\n",
       " ('Comedy', 0.0014000841589009204),\n",
       " ('Western', 0.0010098157918269279),\n",
       " ('War', 0.000972425418448111),\n",
       " ('Fantasy', 0.0008963258334366681),\n",
       " ('Horror', 0.0007475527081187451),\n",
       " ('Musical', 4.782588995232738e-05),\n",
       " ('Animation', 0.0),\n",
       " ('Film-Noir', 0.0)]"
      ]
     },
     "execution_count": 147,
     "metadata": {},
     "output_type": "execute_result"
    }
   ],
   "source": [
    "feature_score = dict(zip(data.columns, clf.feature_importances_))\n",
    "feature_score = sorted(feature_score.items(), key=lambda x :x[1], reverse=True)\n",
    "feature_score"
   ]
  },
  {
   "cell_type": "markdown",
   "metadata": {},
   "source": [
    "# 疑问？\n",
    "# 1.不知道这种方式获取特征重要程度是否有效\n",
    "# 2.title的重要程度也很高，是否和movie_id重复\n",
    "# 3.这边先取大于0.01的特征进行训练，但实践发现选所有的特征，效果更好些，所以还是改为0\n",
    "   "
   ]
  },
  {
   "cell_type": "code",
   "execution_count": 148,
   "metadata": {},
   "outputs": [
    {
     "data": {
      "text/plain": [
       "Index(['movie_id', 'title', 'user_id', 'zip', 'timestamp', 'occupation',\n",
       "       'genres', 'Thriller', 'Drama', 'age', 'Adventure', 'Romance', 'gender',\n",
       "       'Crime', 'Childrens', 'Mystery', 'Action', 'Sci-Fi', 'Comedy',\n",
       "       'Western', 'War', 'Fantasy', 'Horror', 'Musical'],\n",
       "      dtype='object')"
      ]
     },
     "execution_count": 148,
     "metadata": {},
     "output_type": "execute_result"
    }
   ],
   "source": [
    "new_feature = [ i[0] for i in feature_score if i[1] >0]\n",
    "data = data[new_feature]\n",
    "data.columns"
   ]
  },
  {
   "cell_type": "markdown",
   "metadata": {},
   "source": [
    "# Wild & Deep\n",
    "# 疑问？发现epochs在35之后增大，是不是说直接取35就行？"
   ]
  },
  {
   "cell_type": "code",
   "execution_count": 150,
   "metadata": {},
   "outputs": [
    {
     "name": "stdout",
     "output_type": "stream",
     "text": [
      "Train on 128 samples, validate on 32 samples\n",
      "Epoch 1/50\n"
     ]
    },
    {
     "name": "stderr",
     "output_type": "stream",
     "text": [
      "d:\\ProgramData\\Anaconda3\\lib\\site-packages\\tensorflow_core\\python\\framework\\indexed_slices.py:424: UserWarning: Converting sparse IndexedSlices to a dense Tensor of unknown shape. This may consume a large amount of memory.\n",
      "  \"Converting sparse IndexedSlices to a dense Tensor of unknown shape. \"\n",
      "d:\\ProgramData\\Anaconda3\\lib\\site-packages\\tensorflow_core\\python\\framework\\indexed_slices.py:424: UserWarning: Converting sparse IndexedSlices to a dense Tensor of unknown shape. This may consume a large amount of memory.\n",
      "  \"Converting sparse IndexedSlices to a dense Tensor of unknown shape. \"\n"
     ]
    },
    {
     "name": "stdout",
     "output_type": "stream",
     "text": [
      "128/128 [==============================] - 11s 87ms/sample - loss: 14.3516 - mse: 14.3516 - val_loss: 13.6075 - val_mse: 13.6075\n",
      "Epoch 2/50\n",
      "128/128 [==============================] - 0s 986us/sample - loss: 14.1046 - mse: 14.1046 - val_loss: 13.3858 - val_mse: 13.3858\n",
      "Epoch 3/50\n",
      "128/128 [==============================] - 0s 1ms/sample - loss: 13.8378 - mse: 13.8378 - val_loss: 13.1542 - val_mse: 13.1542\n",
      "Epoch 4/50\n",
      "128/128 [==============================] - 0s 1ms/sample - loss: 13.5606 - mse: 13.5606 - val_loss: 12.9120 - val_mse: 12.9120\n",
      "Epoch 5/50\n",
      "128/128 [==============================] - 0s 1ms/sample - loss: 13.2720 - mse: 13.2720 - val_loss: 12.6578 - val_mse: 12.6578\n",
      "Epoch 6/50\n",
      "128/128 [==============================] - 0s 1ms/sample - loss: 12.9712 - mse: 12.9712 - val_loss: 12.3911 - val_mse: 12.3911\n",
      "Epoch 7/50\n",
      "128/128 [==============================] - 0s 1ms/sample - loss: 12.6572 - mse: 12.6572 - val_loss: 12.1109 - val_mse: 12.1109\n",
      "Epoch 8/50\n",
      "128/128 [==============================] - 0s 1ms/sample - loss: 12.3287 - mse: 12.3287 - val_loss: 11.8158 - val_mse: 11.8158\n",
      "Epoch 9/50\n",
      "128/128 [==============================] - 0s 1ms/sample - loss: 11.9841 - mse: 11.9841 - val_loss: 11.5055 - val_mse: 11.5055\n",
      "Epoch 10/50\n",
      "128/128 [==============================] - 0s 2ms/sample - loss: 11.6222 - mse: 11.6222 - val_loss: 11.1788 - val_mse: 11.1788\n",
      "Epoch 11/50\n",
      "128/128 [==============================] - 0s 2ms/sample - loss: 11.2420 - mse: 11.2420 - val_loss: 10.8344 - val_mse: 10.8344\n",
      "Epoch 12/50\n",
      "128/128 [==============================] - 0s 2ms/sample - loss: 10.8423 - mse: 10.8423 - val_loss: 10.4712 - val_mse: 10.4712\n",
      "Epoch 13/50\n",
      "128/128 [==============================] - 0s 1ms/sample - loss: 10.4219 - mse: 10.4219 - val_loss: 10.0882 - val_mse: 10.0881\n",
      "Epoch 14/50\n",
      "128/128 [==============================] - 0s 1ms/sample - loss: 9.9795 - mse: 9.9795 - val_loss: 9.6839 - val_mse: 9.6839\n",
      "Epoch 15/50\n",
      "128/128 [==============================] - 0s 1ms/sample - loss: 9.5140 - mse: 9.5140 - val_loss: 9.2575 - val_mse: 9.2575\n",
      "Epoch 16/50\n",
      "128/128 [==============================] - 0s 1ms/sample - loss: 9.0245 - mse: 9.0245 - val_loss: 8.8079 - val_mse: 8.8079\n",
      "Epoch 17/50\n",
      "128/128 [==============================] - 0s 1ms/sample - loss: 8.5109 - mse: 8.5109 - val_loss: 8.3350 - val_mse: 8.3350\n",
      "Epoch 18/50\n",
      "128/128 [==============================] - 0s 1ms/sample - loss: 7.9734 - mse: 7.9733 - val_loss: 7.8392 - val_mse: 7.8392\n",
      "Epoch 19/50\n",
      "128/128 [==============================] - 0s 1ms/sample - loss: 7.4129 - mse: 7.4129 - val_loss: 7.3216 - val_mse: 7.3216\n",
      "Epoch 20/50\n",
      "128/128 [==============================] - 0s 1ms/sample - loss: 6.8313 - mse: 6.8313 - val_loss: 6.7837 - val_mse: 6.7837\n",
      "Epoch 21/50\n",
      "128/128 [==============================] - 0s 1ms/sample - loss: 6.2317 - mse: 6.2317 - val_loss: 6.2281 - val_mse: 6.2281\n",
      "Epoch 22/50\n",
      "128/128 [==============================] - 0s 1ms/sample - loss: 5.6184 - mse: 5.6184 - val_loss: 5.6585 - val_mse: 5.6584\n",
      "Epoch 23/50\n",
      "128/128 [==============================] - 0s 1ms/sample - loss: 4.9973 - mse: 4.9973 - val_loss: 5.0798 - val_mse: 5.0798\n",
      "Epoch 24/50\n",
      "128/128 [==============================] - 0s 1ms/sample - loss: 4.3763 - mse: 4.3763 - val_loss: 4.4991 - val_mse: 4.4991\n",
      "Epoch 25/50\n",
      "128/128 [==============================] - 0s 1ms/sample - loss: 3.7655 - mse: 3.7655 - val_loss: 3.9246 - val_mse: 3.9246\n",
      "Epoch 26/50\n",
      "128/128 [==============================] - 0s 1ms/sample - loss: 3.1775 - mse: 3.1775 - val_loss: 3.3678 - val_mse: 3.3677\n",
      "Epoch 27/50\n",
      "128/128 [==============================] - 0s 1ms/sample - loss: 2.6275 - mse: 2.6275 - val_loss: 2.8413 - val_mse: 2.8413\n",
      "Epoch 28/50\n",
      "128/128 [==============================] - 0s 1ms/sample - loss: 2.1329 - mse: 2.1329 - val_loss: 2.3599 - val_mse: 2.3599\n",
      "Epoch 29/50\n",
      "128/128 [==============================] - 0s 1ms/sample - loss: 1.7133 - mse: 1.7132 - val_loss: 1.9404 - val_mse: 1.9404\n",
      "Epoch 30/50\n",
      "128/128 [==============================] - 0s 1ms/sample - loss: 1.3883 - mse: 1.3883 - val_loss: 1.5988 - val_mse: 1.5988\n",
      "Epoch 31/50\n",
      "128/128 [==============================] - 0s 961us/sample - loss: 1.1756 - mse: 1.1755 - val_loss: 1.3481 - val_mse: 1.3480\n",
      "Epoch 32/50\n",
      "128/128 [==============================] - 0s 1ms/sample - loss: 1.0851 - mse: 1.0851 - val_loss: 1.1930 - val_mse: 1.1930\n",
      "Epoch 33/50\n",
      "128/128 [==============================] - 0s 1ms/sample - loss: 1.1122 - mse: 1.1122 - val_loss: 1.1249 - val_mse: 1.1249\n",
      "Epoch 34/50\n",
      "128/128 [==============================] - 0s 1ms/sample - loss: 1.2298 - mse: 1.2298 - val_loss: 1.1199 - val_mse: 1.1199\n",
      "Epoch 35/50\n",
      "128/128 [==============================] - 0s 1ms/sample - loss: 1.3889 - mse: 1.3888 - val_loss: 1.1443 - val_mse: 1.1443\n",
      "Epoch 36/50\n",
      "128/128 [==============================] - 0s 2ms/sample - loss: 1.5307 - mse: 1.5306 - val_loss: 1.1679 - val_mse: 1.1679\n",
      "Epoch 37/50\n",
      "128/128 [==============================] - 0s 1ms/sample - loss: 1.6081 - mse: 1.6081 - val_loss: 1.1742 - val_mse: 1.1742\n",
      "Epoch 38/50\n",
      "128/128 [==============================] - 0s 2ms/sample - loss: 1.6006 - mse: 1.6006 - val_loss: 1.1621 - val_mse: 1.1621\n",
      "Epoch 39/50\n",
      "128/128 [==============================] - 0s 1ms/sample - loss: 1.5142 - mse: 1.5141 - val_loss: 1.1409 - val_mse: 1.1409\n",
      "Epoch 40/50\n",
      "128/128 [==============================] - 0s 2ms/sample - loss: 1.3720 - mse: 1.3719 - val_loss: 1.1236 - val_mse: 1.1235\n",
      "Epoch 41/50\n",
      "128/128 [==============================] - 0s 1ms/sample - loss: 1.2032 - mse: 1.2031 - val_loss: 1.1216 - val_mse: 1.1216\n",
      "Epoch 42/50\n",
      "128/128 [==============================] - 0s 1ms/sample - loss: 1.0346 - mse: 1.0345 - val_loss: 1.1424 - val_mse: 1.1423\n",
      "Epoch 43/50\n",
      "128/128 [==============================] - 0s 1ms/sample - loss: 0.8860 - mse: 0.8860 - val_loss: 1.1880 - val_mse: 1.1880\n",
      "Epoch 44/50\n",
      "128/128 [==============================] - 0s 1ms/sample - loss: 0.7687 - mse: 0.7687 - val_loss: 1.2562 - val_mse: 1.2562\n",
      "Epoch 45/50\n",
      "128/128 [==============================] - 0s 1ms/sample - loss: 0.6860 - mse: 0.6860 - val_loss: 1.3412 - val_mse: 1.3411\n",
      "Epoch 46/50\n",
      "128/128 [==============================] - 0s 2ms/sample - loss: 0.6350 - mse: 0.6349 - val_loss: 1.4354 - val_mse: 1.4354\n",
      "Epoch 47/50\n",
      "128/128 [==============================] - 0s 1ms/sample - loss: 0.6086 - mse: 0.6086 - val_loss: 1.5310 - val_mse: 1.5309\n",
      "Epoch 48/50\n",
      "128/128 [==============================] - 0s 1ms/sample - loss: 0.5985 - mse: 0.5985 - val_loss: 1.6204 - val_mse: 1.6204\n",
      "Epoch 49/50\n",
      "128/128 [==============================] - 0s 1ms/sample - loss: 0.5960 - mse: 0.5959 - val_loss: 1.6978 - val_mse: 1.6978\n",
      "Epoch 50/50\n",
      "128/128 [==============================] - 0s 957us/sample - loss: 0.5937 - mse: 0.5937 - val_loss: 1.7590 - val_mse: 1.7590\n",
      "test RMSE 1.343354011420668\n"
     ]
    }
   ],
   "source": [
    "from deepctr.models import WDL\n",
    "from deepctr.feature_column import SparseFeat, get_feature_names\n",
    "fixlen_feature_columns = [SparseFeat(feature, data[feature].nunique()) for feature in data.columns]\n",
    "linear_feature_columns = fixlen_feature_columns\n",
    "dnn_feature_columns = fixlen_feature_columns\n",
    "feature_names = get_feature_names(linear_feature_columns + dnn_feature_columns)\n",
    "\n",
    "all_data = data.copy()\n",
    "all_data['rating'] = target.values\n",
    "train, test = train_test_split(all_data, test_size=0.2)\n",
    "train_model_input = {name:train[name].values for name in feature_names}\n",
    "test_model_input = {name:test[name].values for name in feature_names}\n",
    "\n",
    "model = WDL(linear_feature_columns, dnn_feature_columns, task='regression')\n",
    "model.compile('adam', 'mse', metrics=['mse'],)\n",
    "history = model.fit(train_model_input, train['rating'].values, batch_size=256, epochs=50, verbose=True, validation_split=0.2, )\n",
    "pred_ans = model.predict(test_model_input, batch_size=256)\n",
    "mse = round(mean_squared_error(test['rating'].values, pred_ans), 4)\n",
    "rmse = mse ** 0.5\n",
    "print('test RMSE', rmse)"
   ]
  },
  {
   "cell_type": "code",
   "execution_count": null,
   "metadata": {},
   "outputs": [],
   "source": []
  }
 ],
 "metadata": {
  "kernelspec": {
   "display_name": "Python 3",
   "language": "python",
   "name": "python3"
  },
  "language_info": {
   "codemirror_mode": {
    "name": "ipython",
    "version": 3
   },
   "file_extension": ".py",
   "mimetype": "text/x-python",
   "name": "python",
   "nbconvert_exporter": "python",
   "pygments_lexer": "ipython3",
   "version": "3.7.4"
  }
 },
 "nbformat": 4,
 "nbformat_minor": 2
}
